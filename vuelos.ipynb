{
 "cells": [
  {
   "cell_type": "code",
   "execution_count": 109,
   "id": "280c53dc",
   "metadata": {},
   "outputs": [],
   "source": [
    "from pyspark.sql import SparkSession\n",
    "from pyspark import SparkContext\n",
    "\n",
    "SpSession = SparkSession \\\n",
    "    .builder \\\n",
    "    .appName(\"Pyspark Canary Turists\") \\\n",
    "    .getOrCreate()\n",
    "\n",
    "SpSession.sparkContext.setLogLevel(\"ERROR\")"
   ]
  },
  {
   "cell_type": "code",
   "execution_count": 110,
   "id": "68cd74d4",
   "metadata": {},
   "outputs": [],
   "source": [
    "from pyspark.sql.functions import *"
   ]
  },
  {
   "cell_type": "markdown",
   "id": "35f6a398",
   "metadata": {},
   "source": [
    "## Carga de datos"
   ]
  },
  {
   "cell_type": "code",
   "execution_count": 157,
   "id": "fe4caa7f",
   "metadata": {},
   "outputs": [],
   "source": [
    "import pandas as pd\n",
    "df_pd_known = pd.read_csv(\"https://datos.canarias.es/catalogos/estadisticas/dataset/f6c8c3ad-0426-4c7e-8fb5-93405e5ee981/resource/de9efe88-6f18-4e87-bebb-1621e654604a/download/c00028a_dsc_0113.csv\")\n",
    "df_sp_known = SpSession.createDataFrame(df_pd_known)\n",
    "df_pd_money = pd.read_csv(\"https://datos.canarias.es/catalogos/estadisticas/dataset/db07c0a2-4e49-4567-902f-967ce597c077/resource/4bc718af-77a6-468d-8442-afabc1c5fb09/download/c00028a_dsc_0046.csv\")\n",
    "df_sp_money = SpSession.createDataFrame(df_pd_money)\n",
    "df_pd_stay = pd.read_csv(\"https://datos.canarias.es/catalogos/estadisticas/dataset/04f2a069-17f0-44ea-8b61-3d998d7c305d/resource/82622785-6a8f-4db9-a520-794526ce957e/download/c00028a_dsc_0138.csv\")\n",
    "df_sp_stay = SpSession.createDataFrame(df_pd_stay)\n",
    "df_pd_canal = pd.read_csv(\"https://datos.canarias.es/catalogos/estadisticas/dataset/eac981c4-ba6e-429f-a94d-2e3b6237b032/resource/4590bec9-9f7a-4344-b92d-da3c988cebde/download/c00028a_dsc_0119.csv\")\n",
    "df_sp_canal = SpSession.createDataFrame(df_pd_canal)\n",
    "df_pd_travel = pd.read_csv(\"https://datos.canarias.es/api/estadisticas/statistical-resources/v1.0/datasets/ISTAC/E16028B_000011/1.48.csv\")\n",
    "df_sp_travel = SpSession.createDataFrame(df_pd_travel)\n"
   ]
  },
  {
   "cell_type": "markdown",
   "id": "c7521610",
   "metadata": {},
   "source": [
    "## Vista de todas la Tablas"
   ]
  },
  {
   "cell_type": "code",
   "execution_count": 205,
   "id": "5e6efd61",
   "metadata": {},
   "outputs": [
    {
     "name": "stdout",
     "output_type": "stream",
     "text": [
      "+--------------+----------------+---------------+-----------------+--------------------------+---------------------+-------------+---------------+---------------------------------+------------+---------+-------------------------------+-----------------+---------------------+-----------------------+\n",
      "|TIME_PERIOD#es|TIME_PERIOD_CODE|TIPO_VIAJERO#es|TIPO_VIAJERO_CODE|LUGAR_RESIDENCIA#es       |LUGAR_RESIDENCIA_CODE|TERRITORIO#es|TERRITORIO_CODE|MEDIDAS#es                       |MEDIDAS_CODE|OBS_VALUE|CONFIDENCIALIDAD_OBSERVACION#es|NOTAS_OBSERVACION|ESTADO_OBSERVACION#es|ESTADO_OBSERVACION_CODE|\n",
      "+--------------+----------------+---------------+-----------------+--------------------------+---------------------+-------------+---------------+---------------------------------+------------+---------+-------------------------------+-----------------+---------------------+-----------------------+\n",
      "|01/2010       |2010-M01        |Turista        |TURISTA          |España (excluida Canarias)|ES_XIC               |Lanzarote    |ES708          |Turistas. Tasa de variación anual|TURISTAS_TVA|NaN      |NaN                            |NaN              |NaN                  |NaN                    |\n",
      "|01/2010       |2010-M01        |Turista        |TURISTA          |España (excluida Canarias)|ES_XIC               |Fuerteventura|ES704          |Turistas. Tasa de variación anual|TURISTAS_TVA|NaN      |NaN                            |NaN              |NaN                  |NaN                    |\n",
      "|01/2010       |2010-M01        |Turista        |TURISTA          |España (excluida Canarias)|ES_XIC               |Gran Canaria |ES705          |Turistas. Tasa de variación anual|TURISTAS_TVA|NaN      |NaN                            |NaN              |NaN                  |NaN                    |\n",
      "|01/2010       |2010-M01        |Turista        |TURISTA          |España (excluida Canarias)|ES_XIC               |Tenerife     |ES709          |Turistas. Tasa de variación anual|TURISTAS_TVA|NaN      |NaN                            |NaN              |NaN                  |NaN                    |\n",
      "|01/2010       |2010-M01        |Turista        |TURISTA          |España (excluida Canarias)|ES_XIC               |La Palma     |ES707          |Turistas. Tasa de variación anual|TURISTAS_TVA|NaN      |NaN                            |NaN              |NaN                  |NaN                    |\n",
      "+--------------+----------------+---------------+-----------------+--------------------------+---------------------+-------------+---------------+---------------------------------+------------+---------+-------------------------------+-----------------+---------------------+-----------------------+\n",
      "only showing top 5 rows\n"
     ]
    }
   ],
   "source": [
    "df_sp_travel.show(5, truncate=False)"
   ]
  },
  {
   "cell_type": "code",
   "execution_count": 203,
   "id": "5c4eeabd",
   "metadata": {},
   "outputs": [
    {
     "name": "stdout",
     "output_type": "stream",
     "text": [
      "+---------------------------------------+--------------------+------------------------+--------+------------+-----------+----------------------+--------+-----------------+\n",
      "|formas_conocer_Canarias                |paises_residencia_id|paises_residencia_nombre|islas_id|islas_nombre|periodos_id|periodos_nombre       |turistas|notas_observacion|\n",
      "+---------------------------------------+--------------------+------------------------+--------+------------+-----------+----------------------+--------+-----------------+\n",
      "|Conocía Canarias por visitas anteriores|T                   |Total países            |ES70    |Canarias    |2006Q1     |2006 Primer trimestre |1866124 |NaN              |\n",
      "|Conocía Canarias por visitas anteriores|T                   |Total países            |ES70    |Canarias    |2006Q2     |2006 Segundo trimestre|1414361 |NaN              |\n",
      "|Conocía Canarias por visitas anteriores|T                   |Total países            |ES70    |Canarias    |2006Q3     |2006 Tercer trimestre |1431374 |NaN              |\n",
      "|Conocía Canarias por visitas anteriores|T                   |Total países            |ES70    |Canarias    |2006Q4     |2006 Cuarto trimestre |1965282 |NaN              |\n",
      "|Conocía Canarias por visitas anteriores|T                   |Total países            |ES70    |Canarias    |2006       |2006                  |6677142 |NaN              |\n",
      "+---------------------------------------+--------------------+------------------------+--------+------------+-----------+----------------------+--------+-----------------+\n",
      "only showing top 5 rows\n",
      "+------------------------------------+--------------------+------------------------+------------------------------------------+----------------------------------------------+-----------+---------------------+-------------+-----------------+\n",
      "|indicadores                         |paises_residencia_id|paises_residencia_nombre|principales_municipios_turisticos_islas_id|principales_municipios_turisticos_islas_nombre|periodos_id|periodos_nombre      |gastos_medios|notas_observacion|\n",
      "+------------------------------------+--------------------+------------------------+------------------------------------------+----------------------------------------------+-----------+---------------------+-------------+-----------------+\n",
      "|Gasto medio total por turista  y día|DE                  |Alemania                |ES70                                      |Canarias                                      |2006       |2006 ESTIMACIÓN ANUAL|96.84        |NaN              |\n",
      "|Gasto medio total por turista  y día|DE                  |Alemania                |ES70                                      |Canarias                                      |2007       |2007 ESTIMACIÓN ANUAL|98.76        |NaN              |\n",
      "|Gasto medio total por turista  y día|DE                  |Alemania                |ES70                                      |Canarias                                      |2008       |2008 ESTIMACIÓN ANUAL|107.25       |NaN              |\n",
      "|Gasto medio total por turista  y día|DE                  |Alemania                |ES70                                      |Canarias                                      |2009       |2009 ESTIMACIÓN ANUAL|113.01       |NaN              |\n",
      "|Gasto medio total por turista  y día|DE                  |Alemania                |ES70                                      |Canarias                                      |2010       |2010 ESTIMACIÓN ANUAL|118.55       |NaN              |\n",
      "+------------------------------------+--------------------+------------------------+------------------------------------------+----------------------------------------------+-----------+---------------------+-------------+-----------------+\n",
      "only showing top 5 rows\n"
     ]
    }
   ],
   "source": [
    "df_sp_known.show(5, truncate=False)\n",
    "df_sp_money.show(5, truncate=False)"
   ]
  },
  {
   "cell_type": "code",
   "execution_count": 204,
   "id": "c6ae10f9",
   "metadata": {},
   "outputs": [
    {
     "name": "stdout",
     "output_type": "stream",
     "text": [
      "+--------------------+------------------------+------------------+--------+------------+-----------+----------------------+--------------+-----------------+\n",
      "|paises_residencia_id|paises_residencia_nombre|tipos_alojamiento |islas_id|islas_nombre|periodos_id|periodos_nombre       |estancia_media|notas_observacion|\n",
      "+--------------------+------------------------+------------------+--------+------------+-----------+----------------------+--------------+-----------------+\n",
      "|T                   |Total países            |Total alojamientos|ES70    |Canarias    |2006Q1     |2006 Primer trimestre |10.28         |NaN              |\n",
      "|T                   |Total países            |Total alojamientos|ES70    |Canarias    |2006Q2     |2006 Segundo trimestre|10.08         |NaN              |\n",
      "|T                   |Total países            |Total alojamientos|ES70    |Canarias    |2006Q3     |2006 Tercer trimestre |10.47         |NaN              |\n",
      "|T                   |Total países            |Total alojamientos|ES70    |Canarias    |2006Q4     |2006 Cuarto trimestre |9.98          |NaN              |\n",
      "|T                   |Total países            |Total alojamientos|ES70    |Canarias    |2006       |2006                  |10.20         |NaN              |\n",
      "+--------------------+------------------------+------------------+--------+------------+-----------+----------------------+--------------+-----------------+\n",
      "only showing top 5 rows\n",
      "+---------------------------+--------------------+------------------------+--------+------------+-----------+----------------------+--------+-----------------+\n",
      "|canales_reserva_alojamiento|paises_residencia_id|paises_residencia_nombre|islas_id|islas_nombre|periodos_id|periodos_nombre       |turistas|notas_observacion|\n",
      "+---------------------------+--------------------+------------------------+--------+------------+-----------+----------------------+--------+-----------------+\n",
      "|Total                      |T                   |Total países            |ES70    |Canarias    |2006Q1     |2006 Primer trimestre |2671533 |NaN              |\n",
      "|Total                      |T                   |Total países            |ES70    |Canarias    |2006Q2     |2006 Segundo trimestre|2315685 |NaN              |\n",
      "|Total                      |T                   |Total países            |ES70    |Canarias    |2006Q3     |2006 Tercer trimestre |2582491 |NaN              |\n",
      "|Total                      |T                   |Total países            |ES70    |Canarias    |2006Q4     |2006 Cuarto trimestre |2809539 |NaN              |\n",
      "|Total                      |T                   |Total países            |ES70    |Canarias    |2006       |2006                  |10379248|NaN              |\n",
      "+---------------------------+--------------------+------------------------+--------+------------+-----------+----------------------+--------+-----------------+\n",
      "only showing top 5 rows\n"
     ]
    }
   ],
   "source": [
    "df_sp_stay.show(5, truncate=False)\n",
    "df_sp_canal.show(5, truncate=False)"
   ]
  },
  {
   "cell_type": "markdown",
   "id": "4c4468b0",
   "metadata": {},
   "source": [
    "## Datos Travel\n"
   ]
  },
  {
   "cell_type": "code",
   "execution_count": 188,
   "id": "3ce8bc99",
   "metadata": {},
   "outputs": [
    {
     "name": "stdout",
     "output_type": "stream",
     "text": [
      "+--------------+----------------+---------------+-----------------+--------------------------+---------------------+-------------+---------------+---------------------------------+------------+---------+-------------------------------+-----------------+---------------------+-----------------------+\n",
      "|TIME_PERIOD#es|TIME_PERIOD_CODE|TIPO_VIAJERO#es|TIPO_VIAJERO_CODE|LUGAR_RESIDENCIA#es       |LUGAR_RESIDENCIA_CODE|TERRITORIO#es|TERRITORIO_CODE|MEDIDAS#es                       |MEDIDAS_CODE|OBS_VALUE|CONFIDENCIALIDAD_OBSERVACION#es|NOTAS_OBSERVACION|ESTADO_OBSERVACION#es|ESTADO_OBSERVACION_CODE|\n",
      "+--------------+----------------+---------------+-----------------+--------------------------+---------------------+-------------+---------------+---------------------------------+------------+---------+-------------------------------+-----------------+---------------------+-----------------------+\n",
      "|01/2010       |2010-M01        |Turista        |TURISTA          |España (excluida Canarias)|ES_XIC               |Lanzarote    |ES708          |Turistas. Tasa de variación anual|TURISTAS_TVA|NaN      |NaN                            |NaN              |NaN                  |NaN                    |\n",
      "|01/2010       |2010-M01        |Turista        |TURISTA          |España (excluida Canarias)|ES_XIC               |Fuerteventura|ES704          |Turistas. Tasa de variación anual|TURISTAS_TVA|NaN      |NaN                            |NaN              |NaN                  |NaN                    |\n",
      "|01/2010       |2010-M01        |Turista        |TURISTA          |España (excluida Canarias)|ES_XIC               |Gran Canaria |ES705          |Turistas. Tasa de variación anual|TURISTAS_TVA|NaN      |NaN                            |NaN              |NaN                  |NaN                    |\n",
      "|01/2010       |2010-M01        |Turista        |TURISTA          |España (excluida Canarias)|ES_XIC               |Tenerife     |ES709          |Turistas. Tasa de variación anual|TURISTAS_TVA|NaN      |NaN                            |NaN              |NaN                  |NaN                    |\n",
      "|01/2010       |2010-M01        |Turista        |TURISTA          |España (excluida Canarias)|ES_XIC               |La Palma     |ES707          |Turistas. Tasa de variación anual|TURISTAS_TVA|NaN      |NaN                            |NaN              |NaN                  |NaN                    |\n",
      "+--------------+----------------+---------------+-----------------+--------------------------+---------------------+-------------+---------------+---------------------------------+------------+---------+-------------------------------+-----------------+---------------------+-----------------------+\n",
      "only showing top 5 rows\n"
     ]
    }
   ],
   "source": [
    "df_sp_travel.show(5, truncate=False)"
   ]
  },
  {
   "cell_type": "code",
   "execution_count": 113,
   "id": "e3b5a260",
   "metadata": {},
   "outputs": [],
   "source": [
    "df_sp_travel = df_sp_travel.withColumnRenamed(\"LUGAR_RESIDENCIA#es\", \"paises_residencia_nombre\")"
   ]
  },
  {
   "cell_type": "code",
   "execution_count": 114,
   "id": "8133afbf",
   "metadata": {},
   "outputs": [],
   "source": [
    "df_sp_travel = df_sp_travel.filter(\n",
    "    (col(\"MEDIDAS#es\") == \"Turistas\")\n",
    ")\n"
   ]
  },
  {
   "cell_type": "code",
   "execution_count": 152,
   "id": "edd5cd6f",
   "metadata": {},
   "outputs": [
    {
     "name": "stdout",
     "output_type": "stream",
     "text": [
      "+--------------------+\n",
      "| LUGAR_RESIDENCIA#es|\n",
      "+--------------------+\n",
      "|Comunidad Valenciana|\n",
      "|           Andalucía|\n",
      "|Resto de España (...|\n",
      "|Castilla - La Mancha|\n",
      "|            Cataluña|\n",
      "|España (excluida ...|\n",
      "|     Castilla y León|\n",
      "|          País Vasco|\n",
      "|             Galicia|\n",
      "| Comunidad de Madrid|\n",
      "+--------------------+\n",
      "\n"
     ]
    }
   ],
   "source": [
    "df_sp_travel.select(\"LUGAR_RESIDENCIA#es\").distinct().show(20)"
   ]
  },
  {
   "cell_type": "code",
   "execution_count": 117,
   "id": "42a6ef95",
   "metadata": {},
   "outputs": [],
   "source": [
    "df_sp_travel = df_sp_travel.na.drop(subset=[\"OBS_VALUE\"])"
   ]
  },
  {
   "cell_type": "code",
   "execution_count": 118,
   "id": "7be6b834",
   "metadata": {},
   "outputs": [
    {
     "data": {
      "text/plain": [
       "[('TIME_PERIOD#es', 'string'),\n",
       " ('TIME_PERIOD_CODE', 'string'),\n",
       " ('TIPO_VIAJERO#es', 'string'),\n",
       " ('TIPO_VIAJERO_CODE', 'string'),\n",
       " ('paises_residencia_nombre', 'string'),\n",
       " ('LUGAR_RESIDENCIA_CODE', 'string'),\n",
       " ('TERRITORIO#es', 'string'),\n",
       " ('TERRITORIO_CODE', 'string'),\n",
       " ('MEDIDAS#es', 'string'),\n",
       " ('MEDIDAS_CODE', 'string'),\n",
       " ('OBS_VALUE', 'double'),\n",
       " ('CONFIDENCIALIDAD_OBSERVACION#es', 'double'),\n",
       " ('NOTAS_OBSERVACION', 'string'),\n",
       " ('ESTADO_OBSERVACION#es', 'string'),\n",
       " ('ESTADO_OBSERVACION_CODE', 'string')]"
      ]
     },
     "execution_count": 118,
     "metadata": {},
     "output_type": "execute_result"
    }
   ],
   "source": [
    "df_sp_travel.dtypes"
   ]
  },
  {
   "cell_type": "code",
   "execution_count": 119,
   "id": "0ebd545d",
   "metadata": {},
   "outputs": [
    {
     "name": "stdout",
     "output_type": "stream",
     "text": [
      "+--------------+----------------+---------------+-----------------+--------------------------+---------------------+-------------+---------------+----------+------------+---------+-------------------------------+-----------------+---------------------+-----------------------+\n",
      "|TIME_PERIOD#es|TIME_PERIOD_CODE|TIPO_VIAJERO#es|TIPO_VIAJERO_CODE|paises_residencia_nombre  |LUGAR_RESIDENCIA_CODE|TERRITORIO#es|TERRITORIO_CODE|MEDIDAS#es|MEDIDAS_CODE|OBS_VALUE|CONFIDENCIALIDAD_OBSERVACION#es|NOTAS_OBSERVACION|ESTADO_OBSERVACION#es|ESTADO_OBSERVACION_CODE|\n",
      "+--------------+----------------+---------------+-----------------+--------------------------+---------------------+-------------+---------------+----------+------------+---------+-------------------------------+-----------------+---------------------+-----------------------+\n",
      "|01/2010       |2010-M01        |Turista        |TURISTA          |España (excluida Canarias)|ES_XIC               |Lanzarote    |ES708          |Turistas  |TURISTAS    |19305.0  |NaN                            |NaN              |NaN                  |NaN                    |\n",
      "|01/2010       |2010-M01        |Turista        |TURISTA          |España (excluida Canarias)|ES_XIC               |Fuerteventura|ES704          |Turistas  |TURISTAS    |6497.0   |NaN                            |NaN              |NaN                  |NaN                    |\n",
      "|01/2010       |2010-M01        |Turista        |TURISTA          |España (excluida Canarias)|ES_XIC               |Gran Canaria |ES705          |Turistas  |TURISTAS    |25663.0  |NaN                            |NaN              |NaN                  |NaN                    |\n",
      "|01/2010       |2010-M01        |Turista        |TURISTA          |España (excluida Canarias)|ES_XIC               |Tenerife     |ES709          |Turistas  |TURISTAS    |48383.0  |NaN                            |NaN              |NaN                  |NaN                    |\n",
      "|01/2010       |2010-M01        |Turista        |TURISTA          |España (excluida Canarias)|ES_XIC               |La Palma     |ES707          |Turistas  |TURISTAS    |3273.0   |NaN                            |NaN              |NaN                  |NaN                    |\n",
      "+--------------+----------------+---------------+-----------------+--------------------------+---------------------+-------------+---------------+----------+------------+---------+-------------------------------+-----------------+---------------------+-----------------------+\n",
      "only showing top 5 rows\n"
     ]
    }
   ],
   "source": [
    "df_sp_travel.show(5, truncate=False)"
   ]
  },
  {
   "cell_type": "code",
   "execution_count": 120,
   "id": "d6ade864",
   "metadata": {},
   "outputs": [
    {
     "name": "stdout",
     "output_type": "stream",
     "text": [
      "+----------+\n",
      "|MEDIDAS#es|\n",
      "+----------+\n",
      "|Turistas  |\n",
      "+----------+\n",
      "\n"
     ]
    }
   ],
   "source": [
    "df_sp_travel.select(\"MEDIDAS#es\").distinct().show(truncate=False)"
   ]
  },
  {
   "cell_type": "markdown",
   "id": "a427c672",
   "metadata": {},
   "source": [
    "## Datos Known\n"
   ]
  },
  {
   "cell_type": "code",
   "execution_count": 123,
   "id": "a7aa2f3d",
   "metadata": {},
   "outputs": [
    {
     "name": "stderr",
     "output_type": "stream",
     "text": [
      "[Stage 151:============================>                            (2 + 2) / 4]\r"
     ]
    },
    {
     "name": "stdout",
     "output_type": "stream",
     "text": [
      "+-------+-----------------------+--------------------+------------------------+--------+------------+------------------+--------------------+------------------+--------------------+\n",
      "|summary|formas_conocer_Canarias|paises_residencia_id|paises_residencia_nombre|islas_id|islas_nombre|       periodos_id|     periodos_nombre|          turistas|   notas_observacion|\n",
      "+-------+-----------------------+--------------------+------------------------+--------+------------+------------------+--------------------+------------------+--------------------+\n",
      "|  count|                  14700|               14700|                   14700|   14700|       14700|             14700|               14700|             14700|               14700|\n",
      "|   mean|                   NULL|                NULL|                    NULL|    NULL|        NULL|            2010.5|              2008.5|115202.76655733128|                 NaN|\n",
      "| stddev|                   NULL|                NULL|                    NULL|    NULL|        NULL|2.8727699311356534|  1.7083094109895745| 325139.1404088629|                 NaN|\n",
      "|    min|   Conocía Canarias ...|                  DE|                Alemania|    ES70|    Canarias|              2006|                2006|                 .|Dato estimado con...|\n",
      "|    max|   Recomendación de ...|                  ZZ|            Total países|   ES709|    Tenerife|            2015Q4|2015 Tercer trime...|             99973|No procede / cate...|\n",
      "+-------+-----------------------+--------------------+------------------------+--------+------------+------------------+--------------------+------------------+--------------------+\n",
      "\n"
     ]
    },
    {
     "name": "stderr",
     "output_type": "stream",
     "text": [
      "                                                                                \r"
     ]
    }
   ],
   "source": [
    "df_sp_known.describe().show()"
   ]
  },
  {
   "cell_type": "code",
   "execution_count": 124,
   "id": "fb764c01",
   "metadata": {},
   "outputs": [
    {
     "name": "stdout",
     "output_type": "stream",
     "text": [
      "+--------------------------------------------+-----+\n",
      "|formas_conocer_Canarias                     |count|\n",
      "+--------------------------------------------+-----+\n",
      "|Conocía Canarias por visitas anteriores     |2100 |\n",
      "|Recomendación de amigos o familiares        |2100 |\n",
      "|Folleto o catálogo del tour operador        |2100 |\n",
      "|Recomendación de agencia de viajes          |2100 |\n",
      "|La información obtenida a través de Internet|2100 |\n",
      "|Otros                                       |2100 |\n",
      "|No contesta                                 |2100 |\n",
      "+--------------------------------------------+-----+\n",
      "\n"
     ]
    }
   ],
   "source": [
    "# df_spark.select(\"formas_conocer_Canarias\").distinct().show(truncate=False)\n",
    "df_sp_known.groupBy(\"formas_conocer_Canarias\").count().show(truncate=False)"
   ]
  },
  {
   "cell_type": "markdown",
   "id": "f44528f1",
   "metadata": {},
   "source": [
    "## Datos Money\n"
   ]
  },
  {
   "cell_type": "code",
   "execution_count": 202,
   "id": "6e7608e2",
   "metadata": {},
   "outputs": [
    {
     "name": "stdout",
     "output_type": "stream",
     "text": [
      "+------------------------------------+--------------------+------------------------+------------------------------------------+----------------------------------------------+-----------+---------------------+-------------+-----------------+\n",
      "|indicadores                         |paises_residencia_id|paises_residencia_nombre|principales_municipios_turisticos_islas_id|principales_municipios_turisticos_islas_nombre|periodos_id|periodos_nombre      |gastos_medios|notas_observacion|\n",
      "+------------------------------------+--------------------+------------------------+------------------------------------------+----------------------------------------------+-----------+---------------------+-------------+-----------------+\n",
      "|Gasto medio total por turista  y día|DE                  |Alemania                |ES70                                      |Canarias                                      |2006       |2006 ESTIMACIÓN ANUAL|96.84        |NaN              |\n",
      "|Gasto medio total por turista  y día|DE                  |Alemania                |ES70                                      |Canarias                                      |2007       |2007 ESTIMACIÓN ANUAL|98.76        |NaN              |\n",
      "|Gasto medio total por turista  y día|DE                  |Alemania                |ES70                                      |Canarias                                      |2008       |2008 ESTIMACIÓN ANUAL|107.25       |NaN              |\n",
      "|Gasto medio total por turista  y día|DE                  |Alemania                |ES70                                      |Canarias                                      |2009       |2009 ESTIMACIÓN ANUAL|113.01       |NaN              |\n",
      "|Gasto medio total por turista  y día|DE                  |Alemania                |ES70                                      |Canarias                                      |2010       |2010 ESTIMACIÓN ANUAL|118.55       |NaN              |\n",
      "+------------------------------------+--------------------+------------------------+------------------------------------------+----------------------------------------------+-----------+---------------------+-------------+-----------------+\n",
      "only showing top 5 rows\n"
     ]
    }
   ],
   "source": [
    "df_sp_money.show(5, truncate=False)"
   ]
  },
  {
   "cell_type": "code",
   "execution_count": 189,
   "id": "2931c7d1",
   "metadata": {},
   "outputs": [
    {
     "data": {
      "text/plain": [
       "['indicadores',\n",
       " 'paises_residencia_id',\n",
       " 'paises_residencia_nombre',\n",
       " 'principales_municipios_turisticos_islas_id',\n",
       " 'principales_municipios_turisticos_islas_nombre',\n",
       " 'periodos_id',\n",
       " 'periodos_nombre',\n",
       " 'gastos_medios',\n",
       " 'notas_observacion']"
      ]
     },
     "execution_count": 189,
     "metadata": {},
     "output_type": "execute_result"
    }
   ],
   "source": [
    "df_sp_money.columns"
   ]
  },
  {
   "cell_type": "code",
   "execution_count": 190,
   "id": "16022ee9",
   "metadata": {},
   "outputs": [],
   "source": [
    "df_sp_money = df_sp_money.withColumn(\n",
    "    \"gastos_medios\",\n",
    "    when(col(\"gastos_medios\").rlike(r\"^-?\\d+(\\.\\d+)?$\"), col(\"gastos_medios\").cast(\"double\"))\n",
    "    .otherwise(None)\n",
    ")"
   ]
  },
  {
   "cell_type": "code",
   "execution_count": 191,
   "id": "707c77c3",
   "metadata": {},
   "outputs": [
    {
     "data": {
      "text/plain": [
       "[('indicadores', 'string'),\n",
       " ('paises_residencia_id', 'string'),\n",
       " ('paises_residencia_nombre', 'string'),\n",
       " ('principales_municipios_turisticos_islas_id', 'string'),\n",
       " ('principales_municipios_turisticos_islas_nombre', 'string'),\n",
       " ('periodos_id', 'string'),\n",
       " ('periodos_nombre', 'string'),\n",
       " ('gastos_medios', 'double'),\n",
       " ('notas_observacion', 'string')]"
      ]
     },
     "execution_count": 191,
     "metadata": {},
     "output_type": "execute_result"
    }
   ],
   "source": [
    "df_sp_money.dtypes"
   ]
  },
  {
   "cell_type": "code",
   "execution_count": 192,
   "id": "7d782c4d",
   "metadata": {},
   "outputs": [
    {
     "name": "stdout",
     "output_type": "stream",
     "text": [
      "+--------------------+--------------------+------------------------+------------------------------------------+----------------------------------------------+-----------+--------------------+-------------+-----------------+\n",
      "|         indicadores|paises_residencia_id|paises_residencia_nombre|principales_municipios_turisticos_islas_id|principales_municipios_turisticos_islas_nombre|periodos_id|     periodos_nombre|gastos_medios|notas_observacion|\n",
      "+--------------------+--------------------+------------------------+------------------------------------------+----------------------------------------------+-----------+--------------------+-------------+-----------------+\n",
      "|Gasto medio total...|                   T|            Total países|                                      ES70|                                      Canarias|     2006Q1|2006 Primer trime...|       105.04|              NaN|\n",
      "|Gasto medio total...|                   T|            Total países|                                      ES70|                                      Canarias|     2006Q2|2006 Segundo trim...|       101.71|              NaN|\n",
      "|Gasto medio total...|                   T|            Total países|                                      ES70|                                      Canarias|     2006Q3|2006 Tercer trime...|       106.71|              NaN|\n",
      "|Gasto medio total...|                   T|            Total países|                                      ES70|                                      Canarias|     2006Q4|2006 Cuarto trime...|       109.85|              NaN|\n",
      "|Gasto medio total...|                   T|            Total países|                                      ES70|                                      Canarias|       2006|2006 ESTIMACIÓN A...|       106.01|              NaN|\n",
      "|Gasto medio total...|                   T|            Total países|                                      ES70|                                      Canarias|     2007Q1|2007 Primer trime...|        108.1|              NaN|\n",
      "|Gasto medio total...|                   T|            Total países|                                      ES70|                                      Canarias|     2007Q2|2007 Segundo trim...|       105.14|              NaN|\n",
      "|Gasto medio total...|                   T|            Total países|                                      ES70|                                      Canarias|     2007Q3|2007 Tercer trime...|       107.22|              NaN|\n",
      "|Gasto medio total...|                   T|            Total países|                                      ES70|                                      Canarias|     2007Q4|2007 Cuarto trime...|       111.82|              NaN|\n",
      "|Gasto medio total...|                   T|            Total países|                                      ES70|                                      Canarias|       2007|2007 ESTIMACIÓN A...|       108.31|              NaN|\n",
      "|Gasto medio total...|                   T|            Total países|                                      ES70|                                      Canarias|     2008Q1|2008 Primer trime...|        110.8|              NaN|\n",
      "|Gasto medio total...|                   T|            Total países|                                      ES70|                                      Canarias|     2008Q2|2008 Segundo trim...|       104.72|              NaN|\n",
      "|Gasto medio total...|                   T|            Total países|                                      ES70|                                      Canarias|     2008Q3|2008 Tercer trime...|       108.84|              NaN|\n",
      "|Gasto medio total...|                   T|            Total países|                                      ES70|                                      Canarias|     2008Q4|2008 Cuarto trime...|       115.55|              NaN|\n",
      "|Gasto medio total...|                   T|            Total países|                                      ES70|                                      Canarias|       2008|2008 ESTIMACIÓN A...|       110.22|              NaN|\n",
      "|Gasto medio total...|                   T|            Total países|                                      ES70|                                      Canarias|     2009Q1|2009 Primer trime...|       117.03|              NaN|\n",
      "|Gasto medio total...|                   T|            Total países|                                      ES70|                                      Canarias|     2009Q2|2009 Segundo trim...|       109.51|              NaN|\n",
      "|Gasto medio total...|                   T|            Total países|                                      ES70|                                      Canarias|     2009Q3|2009 Tercer trime...|        111.8|              NaN|\n",
      "|Gasto medio total...|                   T|            Total países|                                      ES70|                                      Canarias|     2009Q4|2009 Cuarto trime...|       109.96|              NaN|\n",
      "|Gasto medio total...|                   T|            Total países|                                      ES70|                                      Canarias|       2009|2009 ESTIMACIÓN A...|       112.26|              NaN|\n",
      "+--------------------+--------------------+------------------------+------------------------------------------+----------------------------------------------+-----------+--------------------+-------------+-----------------+\n",
      "only showing top 20 rows\n"
     ]
    }
   ],
   "source": [
    "df_sp_money.show()"
   ]
  },
  {
   "cell_type": "code",
   "execution_count": 194,
   "id": "9a8eee93",
   "metadata": {},
   "outputs": [
    {
     "name": "stdout",
     "output_type": "stream",
     "text": [
      "+-------------+\n",
      "|gastos_medios|\n",
      "+-------------+\n",
      "|       106.01|\n",
      "|       125.64|\n",
      "|       120.34|\n",
      "|        98.09|\n",
      "|        95.57|\n",
      "+-------------+\n",
      "only showing top 5 rows\n"
     ]
    }
   ],
   "source": [
    "df_sp_money.select(\"gastos_medios\").distinct().show(5)"
   ]
  },
  {
   "cell_type": "code",
   "execution_count": 195,
   "id": "727f8c5f",
   "metadata": {},
   "outputs": [],
   "source": [
    "years_to_include = [\"2006\", \"2007\", \"2008\", \"2009\", \"2010\", \"2011\", \"2012\", \"2013\", \"2014\", \"2015\", \"2016\", \"2017\", \"2018\", \"2019\", \"2020\", \"2021\", \"2022\", \"2023\", \"2024\"]\n",
    "\n",
    "df_sp_money = df_sp_money.filter(\n",
    "    (col(\"periodos_id\").isin(years_to_include)) \n",
    "    & (col(\"paises_residencia_nombre\") != \"Total países\")\n",
    "\n",
    ")\n"
   ]
  },
  {
   "cell_type": "code",
   "execution_count": 196,
   "id": "261213cf",
   "metadata": {},
   "outputs": [
    {
     "name": "stdout",
     "output_type": "stream",
     "text": [
      "+------------------------------------+--------------------+------------------------+------------------------------------------+----------------------------------------------+-----------+---------------------+-------------+-----------------+\n",
      "|indicadores                         |paises_residencia_id|paises_residencia_nombre|principales_municipios_turisticos_islas_id|principales_municipios_turisticos_islas_nombre|periodos_id|periodos_nombre      |gastos_medios|notas_observacion|\n",
      "+------------------------------------+--------------------+------------------------+------------------------------------------+----------------------------------------------+-----------+---------------------+-------------+-----------------+\n",
      "|Gasto medio total por turista  y día|DE                  |Alemania                |ES70                                      |Canarias                                      |2006       |2006 ESTIMACIÓN ANUAL|96.84        |NaN              |\n",
      "|Gasto medio total por turista  y día|DE                  |Alemania                |ES70                                      |Canarias                                      |2007       |2007 ESTIMACIÓN ANUAL|98.76        |NaN              |\n",
      "|Gasto medio total por turista  y día|DE                  |Alemania                |ES70                                      |Canarias                                      |2008       |2008 ESTIMACIÓN ANUAL|107.25       |NaN              |\n",
      "|Gasto medio total por turista  y día|DE                  |Alemania                |ES70                                      |Canarias                                      |2009       |2009 ESTIMACIÓN ANUAL|113.01       |NaN              |\n",
      "|Gasto medio total por turista  y día|DE                  |Alemania                |ES70                                      |Canarias                                      |2010       |2010 ESTIMACIÓN ANUAL|118.55       |NaN              |\n",
      "+------------------------------------+--------------------+------------------------+------------------------------------------+----------------------------------------------+-----------+---------------------+-------------+-----------------+\n",
      "only showing top 5 rows\n"
     ]
    }
   ],
   "source": [
    "df_sp_money.show(5, truncate=False)"
   ]
  },
  {
   "cell_type": "code",
   "execution_count": 197,
   "id": "740d1e05",
   "metadata": {},
   "outputs": [
    {
     "name": "stdout",
     "output_type": "stream",
     "text": [
      "+------------------------+\n",
      "|paises_residencia_nombre|\n",
      "+------------------------+\n",
      "|                  España|\n",
      "|                Alemania|\n",
      "|            Otros países|\n",
      "|             Reino Unido|\n",
      "+------------------------+\n",
      "\n"
     ]
    }
   ],
   "source": [
    "df_sp_money.select(\"paises_residencia_nombre\").distinct().show()"
   ]
  },
  {
   "cell_type": "markdown",
   "id": "beb04979",
   "metadata": {},
   "source": [
    "# ¿Cual es el gasto promedio por personas por día segun el pais de residencia del turista?"
   ]
  },
  {
   "cell_type": "code",
   "execution_count": 201,
   "id": "b8efabb3",
   "metadata": {},
   "outputs": [
    {
     "name": "stdout",
     "output_type": "stream",
     "text": [
      "Top 10 países por gasto promedio por persona por dia:\n",
      "+------------------------+------------------+------------------+-------------+\n",
      "|paises_residencia_nombre|gasto_promedio    |gasto_total       |num_registros|\n",
      "+------------------------+------------------+------------------+-------------+\n",
      "|Alemania                |415.45308103975555|543412.6300000002 |1320         |\n",
      "|Otros países            |395.3835378787879 |521906.27         |1320         |\n",
      "|Reino Unido             |331.25388888888887|435267.61         |1320         |\n",
      "|España                  |304.0834166666667 |401390.11000000004|1320         |\n",
      "+------------------------+------------------+------------------+-------------+\n",
      "\n"
     ]
    }
   ],
   "source": [
    "gasto_por_pais = df_sp_money.groupBy(\"paises_residencia_nombre\") \\\n",
    "    .agg(\n",
    "        avg(\"gastos_medios\").alias(\"gasto_promedio\"),\n",
    "        sum(\"gastos_medios\").alias(\"gasto_total\"),\n",
    "        count(\"*\").alias(\"num_registros\")\n",
    "    ) \\\n",
    "    .orderBy(desc(\"gasto_promedio\"))\n",
    "\n",
    "print(\"Top 10 países por gasto promedio por persona por dia:\")\n",
    "gasto_por_pais.show(10, truncate=False)"
   ]
  },
  {
   "cell_type": "code",
   "execution_count": null,
   "id": "09eb4803",
   "metadata": {},
   "outputs": [],
   "source": [
    "\n",
    "\n",
    "#### Hay relacion entre el gasto y el tiempo de estadia? es decir, si se quedan mas tiempo gastan mas?\n",
    "#### "
   ]
  },
  {
   "cell_type": "code",
   "execution_count": null,
   "id": "43c12469",
   "metadata": {},
   "outputs": [],
   "source": []
  }
 ],
 "metadata": {
  "kernelspec": {
   "display_name": "datos",
   "language": "python",
   "name": "python3"
  },
  "language_info": {
   "codemirror_mode": {
    "name": "ipython",
    "version": 3
   },
   "file_extension": ".py",
   "mimetype": "text/x-python",
   "name": "python",
   "nbconvert_exporter": "python",
   "pygments_lexer": "ipython3",
   "version": "3.12.3"
  }
 },
 "nbformat": 4,
 "nbformat_minor": 5
}
