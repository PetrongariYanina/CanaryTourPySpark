{
 "cells": [
  {
   "cell_type": "code",
   "execution_count": 2,
   "id": "280c53dc",
   "metadata": {},
   "outputs": [],
   "source": [
    "from pyspark.sql import SparkSession\n",
    "from pyspark import SparkContext\n",
    "\n",
    "SpSession = SparkSession \\\n",
    "    .builder \\\n",
    "    .appName(\"Pyspark Canary Turists\") \\\n",
    "    .getOrCreate()\n",
    "\n",
    "SpSession.sparkContext.setLogLevel(\"ERROR\")"
   ]
  },
  {
   "cell_type": "code",
   "execution_count": 3,
   "id": "fe4caa7f",
   "metadata": {},
   "outputs": [],
   "source": [
    "import pandas as pd\n",
    "df_pd_known = pd.read_csv(\"https://datos.canarias.es/catalogos/estadisticas/dataset/f6c8c3ad-0426-4c7e-8fb5-93405e5ee981/resource/de9efe88-6f18-4e87-bebb-1621e654604a/download/c00028a_dsc_0113.csv\")\n",
    "df_sp_known = SpSession.createDataFrame(df_pd_known)\n",
    "df_pd_money = pd.read_csv(\"https://datos.canarias.es/catalogos/estadisticas/dataset/f3271a16-acd7-44d4-840a-80179443f414/resource/199d47e1-72b6-423a-8b7a-9a9f3c4e1596/download/c00028a_dsc_0145.csv\")\n",
    "df_sp_money = SpSession.createDataFrame(df_pd_money)\n",
    "df_pd_stay = pd.read_csv(\"https://datos.canarias.es/catalogos/estadisticas/dataset/04f2a069-17f0-44ea-8b61-3d998d7c305d/resource/82622785-6a8f-4db9-a520-794526ce957e/download/c00028a_dsc_0138.csv\")\n",
    "df_sp_stay = SpSession.createDataFrame(df_pd_stay)\n",
    "df_pd_canal = pd.read_csv(\"https://datos.canarias.es/catalogos/estadisticas/dataset/eac981c4-ba6e-429f-a94d-2e3b6237b032/resource/4590bec9-9f7a-4344-b92d-da3c988cebde/download/c00028a_dsc_0119.csv\")\n",
    "df_sp_canal = SpSession.createDataFrame(df_pd_canal)\n"
   ]
  },
  {
   "cell_type": "code",
   "execution_count": 4,
   "id": "534374e3",
   "metadata": {},
   "outputs": [
    {
     "name": "stderr",
     "output_type": "stream",
     "text": [
      "                                                                                \r"
     ]
    },
    {
     "name": "stdout",
     "output_type": "stream",
     "text": [
      "+-----------------------+--------------------+------------------------+--------+------------+-----------+--------------------+--------+-----------------+\n",
      "|formas_conocer_Canarias|paises_residencia_id|paises_residencia_nombre|islas_id|islas_nombre|periodos_id|     periodos_nombre|turistas|notas_observacion|\n",
      "+-----------------------+--------------------+------------------------+--------+------------+-----------+--------------------+--------+-----------------+\n",
      "|   Conocía Canarias ...|                   T|            Total países|    ES70|    Canarias|     2006Q1|2006 Primer trime...| 1866124|              NaN|\n",
      "|   Conocía Canarias ...|                   T|            Total países|    ES70|    Canarias|     2006Q2|2006 Segundo trim...| 1414361|              NaN|\n",
      "|   Conocía Canarias ...|                   T|            Total países|    ES70|    Canarias|     2006Q3|2006 Tercer trime...| 1431374|              NaN|\n",
      "|   Conocía Canarias ...|                   T|            Total países|    ES70|    Canarias|     2006Q4|2006 Cuarto trime...| 1965282|              NaN|\n",
      "|   Conocía Canarias ...|                   T|            Total países|    ES70|    Canarias|       2006|                2006| 6677142|              NaN|\n",
      "+-----------------------+--------------------+------------------------+--------+------------+-----------+--------------------+--------+-----------------+\n",
      "only showing top 5 rows\n",
      "+--------------------+------------------------+--------------------+------------------------+--------+------------+--------------+-----------+--------------------+---------------+-----------------+\n",
      "|indicadores_gasto_id|indicadores_gasto_nombre|paises_residencia_id|paises_residencia_nombre|islas_id|islas_nombre|   indicadores|periodos_id|     periodos_nombre|macromagnitudes|notas_observacion|\n",
      "+--------------------+------------------------+--------------------+------------------------+--------+------------+--------------+-----------+--------------------+---------------+-----------------+\n",
      "|                   T|             Gasto total|                   T|            Total países|    ES70|    Canarias|Valor absoluto|     2006Q1|2006 Primer trime...|  2593970437.00|              NaN|\n",
      "|                   T|             Gasto total|                   T|            Total países|    ES70|    Canarias|Valor absoluto|     2006Q2|2006 Segundo trim...|  2213270513.50|              NaN|\n",
      "|                   T|             Gasto total|                   T|            Total países|    ES70|    Canarias|Valor absoluto|     2006Q3|2006 Tercer trime...|  2987351577.00|              NaN|\n",
      "|                   T|             Gasto total|                   T|            Total países|    ES70|    Canarias|Valor absoluto|     2006Q4|2006 Cuarto trime...|  2935934209.20|              NaN|\n",
      "|                   T|             Gasto total|                   T|            Total países|    ES70|    Canarias|Valor absoluto|       2006|                2006| 10730526737.00|              NaN|\n",
      "+--------------------+------------------------+--------------------+------------------------+--------+------------+--------------+-----------+--------------------+---------------+-----------------+\n",
      "only showing top 5 rows\n"
     ]
    }
   ],
   "source": [
    "df_sp_known.show(5)\n",
    "df_sp_money.show(5)"
   ]
  },
  {
   "cell_type": "code",
   "execution_count": 5,
   "id": "6de23b13",
   "metadata": {},
   "outputs": [
    {
     "name": "stdout",
     "output_type": "stream",
     "text": [
      "+--------------------+------------------------+------------------+--------+------------+-----------+--------------------+--------------+-----------------+\n",
      "|paises_residencia_id|paises_residencia_nombre| tipos_alojamiento|islas_id|islas_nombre|periodos_id|     periodos_nombre|estancia_media|notas_observacion|\n",
      "+--------------------+------------------------+------------------+--------+------------+-----------+--------------------+--------------+-----------------+\n",
      "|                   T|            Total países|Total alojamientos|    ES70|    Canarias|     2006Q1|2006 Primer trime...|         10.28|              NaN|\n",
      "|                   T|            Total países|Total alojamientos|    ES70|    Canarias|     2006Q2|2006 Segundo trim...|         10.08|              NaN|\n",
      "|                   T|            Total países|Total alojamientos|    ES70|    Canarias|     2006Q3|2006 Tercer trime...|         10.47|              NaN|\n",
      "|                   T|            Total países|Total alojamientos|    ES70|    Canarias|     2006Q4|2006 Cuarto trime...|          9.98|              NaN|\n",
      "|                   T|            Total países|Total alojamientos|    ES70|    Canarias|       2006|                2006|         10.20|              NaN|\n",
      "+--------------------+------------------------+------------------+--------+------------+-----------+--------------------+--------------+-----------------+\n",
      "only showing top 5 rows\n",
      "+---------------------------+--------------------+------------------------+--------+------------+-----------+--------------------+--------+-----------------+\n",
      "|canales_reserva_alojamiento|paises_residencia_id|paises_residencia_nombre|islas_id|islas_nombre|periodos_id|     periodos_nombre|turistas|notas_observacion|\n",
      "+---------------------------+--------------------+------------------------+--------+------------+-----------+--------------------+--------+-----------------+\n",
      "|                      Total|                   T|            Total países|    ES70|    Canarias|     2006Q1|2006 Primer trime...| 2671533|              NaN|\n",
      "|                      Total|                   T|            Total países|    ES70|    Canarias|     2006Q2|2006 Segundo trim...| 2315685|              NaN|\n",
      "|                      Total|                   T|            Total países|    ES70|    Canarias|     2006Q3|2006 Tercer trime...| 2582491|              NaN|\n",
      "|                      Total|                   T|            Total países|    ES70|    Canarias|     2006Q4|2006 Cuarto trime...| 2809539|              NaN|\n",
      "|                      Total|                   T|            Total países|    ES70|    Canarias|       2006|                2006|10379248|              NaN|\n",
      "+---------------------------+--------------------+------------------------+--------+------------+-----------+--------------------+--------+-----------------+\n",
      "only showing top 5 rows\n"
     ]
    }
   ],
   "source": [
    "df_sp_stay.show(5)\n",
    "df_sp_canal.show(5)"
   ]
  },
  {
   "cell_type": "code",
   "execution_count": 6,
   "id": "a7aa2f3d",
   "metadata": {},
   "outputs": [
    {
     "name": "stderr",
     "output_type": "stream",
     "text": [
      "[Stage 4:>                                                          (0 + 4) / 4]\r"
     ]
    },
    {
     "name": "stdout",
     "output_type": "stream",
     "text": [
      "+-------+-----------------------+--------------------+------------------------+--------+------------+------------------+--------------------+------------------+--------------------+\n",
      "|summary|formas_conocer_Canarias|paises_residencia_id|paises_residencia_nombre|islas_id|islas_nombre|       periodos_id|     periodos_nombre|          turistas|   notas_observacion|\n",
      "+-------+-----------------------+--------------------+------------------------+--------+------------+------------------+--------------------+------------------+--------------------+\n",
      "|  count|                  14700|               14700|                   14700|   14700|       14700|             14700|               14700|             14700|               14700|\n",
      "|   mean|                   NULL|                NULL|                    NULL|    NULL|        NULL|            2010.5|              2008.5|115202.76655733128|                 NaN|\n",
      "| stddev|                   NULL|                NULL|                    NULL|    NULL|        NULL|2.8727699311356534|  1.7083094109895745| 325139.1404088629|                 NaN|\n",
      "|    min|   Conocía Canarias ...|                  DE|                Alemania|    ES70|    Canarias|              2006|                2006|                 .|Dato estimado con...|\n",
      "|    max|   Recomendación de ...|                  ZZ|            Total países|   ES709|    Tenerife|            2015Q4|2015 Tercer trime...|             99973|No procede / cate...|\n",
      "+-------+-----------------------+--------------------+------------------------+--------+------------+------------------+--------------------+------------------+--------------------+\n",
      "\n"
     ]
    },
    {
     "name": "stderr",
     "output_type": "stream",
     "text": [
      "                                                                                \r"
     ]
    }
   ],
   "source": [
    "df_sp_known.describe().show()"
   ]
  },
  {
   "cell_type": "code",
   "execution_count": 7,
   "id": "fb764c01",
   "metadata": {},
   "outputs": [
    {
     "name": "stdout",
     "output_type": "stream",
     "text": [
      "+--------------------------------------------+-----+\n",
      "|formas_conocer_Canarias                     |count|\n",
      "+--------------------------------------------+-----+\n",
      "|Conocía Canarias por visitas anteriores     |2100 |\n",
      "|Recomendación de amigos o familiares        |2100 |\n",
      "|Folleto o catálogo del tour operador        |2100 |\n",
      "|Recomendación de agencia de viajes          |2100 |\n",
      "|La información obtenida a través de Internet|2100 |\n",
      "|Otros                                       |2100 |\n",
      "|No contesta                                 |2100 |\n",
      "+--------------------------------------------+-----+\n",
      "\n"
     ]
    }
   ],
   "source": [
    "# df_spark.select(\"formas_conocer_Canarias\").distinct().show(truncate=False)\n",
    "df_sp_known.groupBy(\"formas_conocer_Canarias\").count().show(truncate=False)"
   ]
  },
  {
   "cell_type": "markdown",
   "id": "0a3667a6",
   "metadata": {},
   "source": [
    "#### De donde vienen los turistas que gastan mas dinero en las islas y a que islas van?"
   ]
  },
  {
   "cell_type": "code",
   "execution_count": 11,
   "id": "5e221922",
   "metadata": {},
   "outputs": [],
   "source": [
    "from pyspark.sql.functions import *\n",
    "from pyspark.sql.types import *\n"
   ]
  },
  {
   "cell_type": "code",
   "execution_count": 17,
   "id": "2931c7d1",
   "metadata": {},
   "outputs": [
    {
     "data": {
      "text/plain": [
       "['indicadores_gasto_id',\n",
       " 'indicadores_gasto_nombre',\n",
       " 'paises_residencia_id',\n",
       " 'paises_residencia_nombre',\n",
       " 'islas_id',\n",
       " 'islas_nombre',\n",
       " 'indicadores',\n",
       " 'periodos_id',\n",
       " 'periodos_nombre',\n",
       " 'macromagnitudes',\n",
       " 'notas_observacion']"
      ]
     },
     "execution_count": 17,
     "metadata": {},
     "output_type": "execute_result"
    }
   ],
   "source": [
    "df_sp_money.columns"
   ]
  },
  {
   "cell_type": "code",
   "execution_count": 32,
   "id": "16022ee9",
   "metadata": {},
   "outputs": [],
   "source": [
    "df_money = df_sp_money.withColumn(\n",
    "    \"macromagnitudes_num\",\n",
    "    when(col(\"macromagnitudes\").rlike(r\"^-?\\d+(\\.\\d+)?$\"), col(\"macromagnitudes\").cast(\"double\"))\n",
    "    .otherwise(None)\n",
    ")"
   ]
  },
  {
   "cell_type": "code",
   "execution_count": 35,
   "id": "707c77c3",
   "metadata": {},
   "outputs": [
    {
     "data": {
      "text/plain": [
       "[('indicadores_gasto_id', 'string'),\n",
       " ('indicadores_gasto_nombre', 'string'),\n",
       " ('paises_residencia_id', 'string'),\n",
       " ('paises_residencia_nombre', 'string'),\n",
       " ('islas_id', 'string'),\n",
       " ('islas_nombre', 'string'),\n",
       " ('indicadores', 'string'),\n",
       " ('periodos_id', 'string'),\n",
       " ('periodos_nombre', 'string'),\n",
       " ('macromagnitudes', 'string'),\n",
       " ('notas_observacion', 'string'),\n",
       " ('macromagnitudes_num', 'double')]"
      ]
     },
     "execution_count": 35,
     "metadata": {},
     "output_type": "execute_result"
    }
   ],
   "source": [
    "df_money.dtypes"
   ]
  },
  {
   "cell_type": "code",
   "execution_count": 36,
   "id": "9a8eee93",
   "metadata": {},
   "outputs": [
    {
     "name": "stdout",
     "output_type": "stream",
     "text": [
      "+-------------------+\n",
      "|macromagnitudes_num|\n",
      "+-------------------+\n",
      "|     2.0721110797E9|\n",
      "|     3.7214021988E9|\n",
      "|               2.86|\n",
      "|     5.4217550881E8|\n",
      "|              17.95|\n",
      "|              26.72|\n",
      "|       9.06790442E8|\n",
      "|        1.6106505E8|\n",
      "|             -25.86|\n",
      "|     5.8728029399E8|\n",
      "|     2.2557389016E8|\n",
      "|     2.0515863006E8|\n",
      "|               14.9|\n",
      "|              82.51|\n",
      "|               9.13|\n",
      "|              23.04|\n",
      "|          992157.85|\n",
      "|     3.3387216152E8|\n",
      "|     8.3211742905E8|\n",
      "|              19.27|\n",
      "+-------------------+\n",
      "only showing top 20 rows\n"
     ]
    }
   ],
   "source": [
    "df_money.select(\"macromagnitudes_num\").distinct().show()"
   ]
  },
  {
   "cell_type": "code",
   "execution_count": 40,
   "id": "727f8c5f",
   "metadata": {},
   "outputs": [],
   "source": [
    "df_money_l = df_money.filter(col(\"paises_residencia_nombre\") != \"Total países\")\n"
   ]
  },
  {
   "cell_type": "code",
   "execution_count": 41,
   "id": "740d1e05",
   "metadata": {},
   "outputs": [
    {
     "name": "stdout",
     "output_type": "stream",
     "text": [
      "+------------------------+\n",
      "|paises_residencia_nombre|\n",
      "+------------------------+\n",
      "|                  España|\n",
      "|         Países Nórdicos|\n",
      "|                Alemania|\n",
      "|                 Holanda|\n",
      "|            Otros países|\n",
      "|             Reino Unido|\n",
      "+------------------------+\n",
      "\n"
     ]
    }
   ],
   "source": [
    "df_money_l.select(\"paises_residencia_nombre\").distinct().show()"
   ]
  },
  {
   "cell_type": "code",
   "execution_count": 42,
   "id": "b8efabb3",
   "metadata": {},
   "outputs": [
    {
     "name": "stdout",
     "output_type": "stream",
     "text": [
      "Top 10 países por gasto promedio:\n",
      "+------------------------+--------------------+--------------------+-------------+\n",
      "|paises_residencia_nombre|      gasto_promedio|         gasto_total|num_registros|\n",
      "+------------------------+--------------------+--------------------+-------------+\n",
      "|             Reino Unido|1.1019812127841346E8|2.611695474298399E11|         2700|\n",
      "|                Alemania| 9.483528379998337E7|2.287427045255598...|         2700|\n",
      "|            Otros países| 7.854427843284823E7|1.894487995800299...|         2700|\n",
      "|         Países Nórdicos| 5.462620341312772E7|1.257495202570200...|         2700|\n",
      "|                  España| 4.502005406478439E7|1.085883704042599...|         2700|\n",
      "|                 Holanda|1.5686055913123671E7|3.741124335279996E10|         2700|\n",
      "+------------------------+--------------------+--------------------+-------------+\n",
      "\n"
     ]
    }
   ],
   "source": [
    "gasto_por_pais = df_money_l.groupBy(\"paises_residencia_nombre\") \\\n",
    "    .agg(\n",
    "        avg(\"macromagnitudes_num\").alias(\"gasto_promedio\"),\n",
    "        sum(\"macromagnitudes_num\").alias(\"gasto_total\"),\n",
    "        count(\"*\").alias(\"num_registros\")\n",
    "    ) \\\n",
    "    .orderBy(desc(\"gasto_promedio\"))\n",
    "\n",
    "print(\"Top 10 países por gasto promedio:\")\n",
    "gasto_por_pais.show(10)"
   ]
  },
  {
   "cell_type": "code",
   "execution_count": null,
   "id": "4bb993fc",
   "metadata": {},
   "outputs": [],
   "source": []
  },
  {
   "cell_type": "code",
   "execution_count": null,
   "id": "09eb4803",
   "metadata": {},
   "outputs": [],
   "source": [
    "### Que quiero responder?\n",
    "\n",
    "#### Hay relacion entre el gasto y el tiempo de estadia? es decir, si se quedan mas tiempo gastan mas?\n",
    "#### "
   ]
  },
  {
   "cell_type": "code",
   "execution_count": null,
   "id": "43c12469",
   "metadata": {},
   "outputs": [],
   "source": []
  }
 ],
 "metadata": {
  "kernelspec": {
   "display_name": "datos",
   "language": "python",
   "name": "python3"
  },
  "language_info": {
   "codemirror_mode": {
    "name": "ipython",
    "version": 3
   },
   "file_extension": ".py",
   "mimetype": "text/x-python",
   "name": "python",
   "nbconvert_exporter": "python",
   "pygments_lexer": "ipython3",
   "version": "3.12.3"
  }
 },
 "nbformat": 4,
 "nbformat_minor": 5
}
