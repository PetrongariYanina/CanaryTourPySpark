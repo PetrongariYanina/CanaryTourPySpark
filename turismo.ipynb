{
 "cells": [
  {
   "cell_type": "markdown",
   "id": "758ed84d",
   "metadata": {},
   "source": [
    "## Sesion Pyspark"
   ]
  },
  {
   "cell_type": "code",
   "execution_count": 1,
   "id": "08cd455c",
   "metadata": {},
   "outputs": [
    {
     "name": "stderr",
     "output_type": "stream",
     "text": [
      "WARNING: Using incubator modules: jdk.incubator.vector\n",
      "Using Spark's default log4j profile: org/apache/spark/log4j2-defaults.properties\n",
      "25/07/13 18:05:17 WARN Utils: Your hostname, yani-OMEN-by-HP-Laptop, resolves to a loopback address: 127.0.1.1; using 192.168.1.222 instead (on interface wlo1)\n",
      "25/07/13 18:05:17 WARN Utils: Set SPARK_LOCAL_IP if you need to bind to another address\n",
      "Using Spark's default log4j profile: org/apache/spark/log4j2-defaults.properties\n",
      "Setting default log level to \"WARN\".\n",
      "To adjust logging level use sc.setLogLevel(newLevel). For SparkR, use setLogLevel(newLevel).\n",
      "25/07/13 18:05:19 WARN NativeCodeLoader: Unable to load native-hadoop library for your platform... using builtin-java classes where applicable\n"
     ]
    }
   ],
   "source": [
    "from pyspark.sql import SparkSession\n",
    "from pyspark import SparkContext\n",
    "\n",
    "SpSession = SparkSession \\\n",
    "    .builder \\\n",
    "    .appName(\"Pyspark Turist Canary\") \\\n",
    "    .getOrCreate()\n",
    "\n",
    "SpSession.sparkContext.setLogLevel(\"ERROR\")"
   ]
  },
  {
   "cell_type": "code",
   "execution_count": 2,
   "id": "7b6edfe8",
   "metadata": {},
   "outputs": [],
   "source": [
    "from pyspark.sql.functions import *\n",
    "import pandas as pd"
   ]
  },
  {
   "cell_type": "markdown",
   "id": "514ea8b1",
   "metadata": {},
   "source": [
    "## Carga de Datos"
   ]
  },
  {
   "cell_type": "code",
   "execution_count": 3,
   "id": "0e566986",
   "metadata": {},
   "outputs": [
    {
     "name": "stderr",
     "output_type": "stream",
     "text": [
      "/tmp/ipykernel_4010/2883664287.py:1: DtypeWarning: Columns (7) have mixed types. Specify dtype option on import or set low_memory=False.\n",
      "  df_pd_hotel = pd.read_csv(\"https://datos.canarias.es/api/estadisticas/statistical-resources/v1.0/datasets/ISTAC/C00065A_000048/1.15.csv\")\n"
     ]
    }
   ],
   "source": [
    "\n",
    "df_pd_hotel = pd.read_csv(\"https://datos.canarias.es/api/estadisticas/statistical-resources/v1.0/datasets/ISTAC/C00065A_000048/1.15.csv\")\n",
    "df_sp_hotel = SpSession.createDataFrame(df_pd_hotel)\n"
   ]
  },
  {
   "cell_type": "code",
   "execution_count": 4,
   "id": "c328ea97",
   "metadata": {},
   "outputs": [
    {
     "name": "stderr",
     "output_type": "stream",
     "text": [
      "[Stage 0:>                                                          (0 + 1) / 1]\r"
     ]
    },
    {
     "name": "stdout",
     "output_type": "stream",
     "text": [
      "+-----------------------------------------+--------------------------------------+--------------+----------------+---------------+-----------------+-------------+---------------+--------------+--------------+---------+---------------------+-----------------------+-------------------------------+---------------------------------+--------------------+\n",
      "|EVENTO#es                                |EVENTO_CODE                           |TIME_PERIOD#es|TIME_PERIOD_CODE|NACIONALIDAD#es|NACIONALIDAD_CODE|TERRITORIO#es|TERRITORIO_CODE|MEDIDAS#es    |MEDIDAS_CODE  |OBS_VALUE|ESTADO_OBSERVACION#es|ESTADO_OBSERVACION_CODE|CONFIDENCIALIDAD_OBSERVACION#es|CONFIDENCIALIDAD_OBSERVACION_CODE|NOTAS_OBSERVACION#es|\n",
      "+-----------------------------------------+--------------------------------------+--------------+----------------+---------------+-----------------+-------------+---------------+--------------+--------------+---------+---------------------+-----------------------+-------------------------------+---------------------------------+--------------------+\n",
      "|Gay Pride Maspalomas                     |GAY_PRIDE_MASPALOMAS                  |2009          |2009-A1         |Reino Unido    |GB               |Canarias     |ES70           |Pernoctaciones|PERNOCTACIONES|151207.0 |NaN                  |NaN                    |NaN                            |NaN                              |NaN                 |\n",
      "|Semana Santa larga                       |SEMANA_SANTA_LARGA                    |2009          |2009-A1         |Reino Unido    |GB               |Canarias     |ES70           |Pernoctaciones|PERNOCTACIONES|270880.0 |NaN                  |NaN                    |NaN                            |NaN                              |NaN                 |\n",
      "|Festival Womad Las Palmas de Gran Canaria|FESTIVAL_WOMAD_LAS_PALMAS_GRAN_CANARIA|2009          |2009-A1         |Reino Unido    |GB               |Canarias     |ES70           |Pernoctaciones|PERNOCTACIONES|96990.0  |NaN                  |NaN                    |NaN                            |NaN                              |NaN                 |\n",
      "|Puente de todos los santos               |PUENTE_TODOS_SANTOS                   |2009          |2009-A1         |Reino Unido    |GB               |Canarias     |ES70           |Pernoctaciones|PERNOCTACIONES|87395.0  |NaN                  |NaN                    |NaN                            |NaN                              |NaN                 |\n",
      "|Ironman Lanzarote (quincena previa)      |IRONMAN_LANZAROTE_QUINCENA_PREVIA     |2009          |2009-A1         |Reino Unido    |GB               |Canarias     |ES70           |Pernoctaciones|PERNOCTACIONES|357191.0 |NaN                  |NaN                    |NaN                            |NaN                              |NaN                 |\n",
      "+-----------------------------------------+--------------------------------------+--------------+----------------+---------------+-----------------+-------------+---------------+--------------+--------------+---------+---------------------+-----------------------+-------------------------------+---------------------------------+--------------------+\n",
      "only showing top 5 rows\n"
     ]
    },
    {
     "name": "stderr",
     "output_type": "stream",
     "text": [
      "                                                                                \r"
     ]
    }
   ],
   "source": [
    "df_sp_hotel.show(5, truncate=False)"
   ]
  },
  {
   "cell_type": "code",
   "execution_count": 5,
   "id": "0ee05b10",
   "metadata": {},
   "outputs": [],
   "source": [
    "\n",
    "df_pd_type = pd.read_csv(\"https://datos.canarias.es/api/estadisticas/statistical-resources/v1.0/datasets/ISTAC/E16028B_000013/1.47.csv\")\n",
    "df_sp_type = SpSession.createDataFrame(df_pd_type)"
   ]
  },
  {
   "cell_type": "code",
   "execution_count": 6,
   "id": "2ae73f0c",
   "metadata": {},
   "outputs": [
    {
     "name": "stdout",
     "output_type": "stream",
     "text": [
      "+---------------------------------+------------+--------------+----------------+-------------+---------------+--------------------------+---------------------+--------------------------------+-------------------------------+---------------+-----------------+---------+-------------------------------+-----------------+---------------------+-----------------------+\n",
      "|MEDIDAS#es                       |MEDIDAS_CODE|TIME_PERIOD#es|TIME_PERIOD_CODE|TERRITORIO#es|TERRITORIO_CODE|LUGAR_RESIDENCIA#es       |LUGAR_RESIDENCIA_CODE|ALOJAMIENTO_TURISTICO_TIPO#es   |ALOJAMIENTO_TURISTICO_TIPO_CODE|TIPO_VIAJERO#es|TIPO_VIAJERO_CODE|OBS_VALUE|CONFIDENCIALIDAD_OBSERVACION#es|NOTAS_OBSERVACION|ESTADO_OBSERVACION#es|ESTADO_OBSERVACION_CODE|\n",
      "+---------------------------------+------------+--------------+----------------+-------------+---------------+--------------------------+---------------------+--------------------------------+-------------------------------+---------------+-----------------+---------+-------------------------------+-----------------+---------------------+-----------------------+\n",
      "|Turistas. Tasa de variación anual|TURISTAS_TVA|05/2010       |2010-M05        |Lanzarote    |ES708          |España (excluida Canarias)|ES_XIC               |Hoteles y alojamientos similares|5510                           |Turista        |TURISTA          |NaN      |NaN                            |NaN              |NaN                  |NaN                    |\n",
      "|Turistas. Tasa de variación anual|TURISTAS_TVA|05/2010       |2010-M05        |Fuerteventura|ES704          |España (excluida Canarias)|ES_XIC               |Hoteles y alojamientos similares|5510                           |Turista        |TURISTA          |NaN      |NaN                            |NaN              |NaN                  |NaN                    |\n",
      "|Turistas. Tasa de variación anual|TURISTAS_TVA|05/2010       |2010-M05        |Gran Canaria |ES705          |España (excluida Canarias)|ES_XIC               |Hoteles y alojamientos similares|5510                           |Turista        |TURISTA          |NaN      |NaN                            |NaN              |NaN                  |NaN                    |\n",
      "|Turistas. Tasa de variación anual|TURISTAS_TVA|05/2010       |2010-M05        |Tenerife     |ES709          |España (excluida Canarias)|ES_XIC               |Hoteles y alojamientos similares|5510                           |Turista        |TURISTA          |NaN      |NaN                            |NaN              |NaN                  |NaN                    |\n",
      "|Turistas. Tasa de variación anual|TURISTAS_TVA|05/2010       |2010-M05        |La Palma     |ES707          |España (excluida Canarias)|ES_XIC               |Hoteles y alojamientos similares|5510                           |Turista        |TURISTA          |NaN      |NaN                            |NaN              |NaN                  |NaN                    |\n",
      "+---------------------------------+------------+--------------+----------------+-------------+---------------+--------------------------+---------------------+--------------------------------+-------------------------------+---------------+-----------------+---------+-------------------------------+-----------------+---------------------+-----------------------+\n",
      "only showing top 5 rows\n"
     ]
    }
   ],
   "source": [
    "df_sp_type.show(5, truncate=False)"
   ]
  },
  {
   "cell_type": "code",
   "execution_count": 7,
   "id": "d287ef6e",
   "metadata": {},
   "outputs": [],
   "source": [
    "df_pd = pd.read_csv(\"https://datos.canarias.es/api/estadisticas/statistical-resources/v1.0/datasets/ISTAC/E16028B_000011/~latest.csv\")\n",
    "df_sp = SpSession.createDataFrame(df_pd)"
   ]
  },
  {
   "cell_type": "code",
   "execution_count": 8,
   "id": "40c2adbc",
   "metadata": {},
   "outputs": [
    {
     "name": "stdout",
     "output_type": "stream",
     "text": [
      "+--------------+----------------+---------------+-----------------+--------------------------+---------------------+-------------+---------------+---------------------------------+------------+---------+-------------------------------+-----------------+---------------------+-----------------------+\n",
      "|TIME_PERIOD#es|TIME_PERIOD_CODE|TIPO_VIAJERO#es|TIPO_VIAJERO_CODE|LUGAR_RESIDENCIA#es       |LUGAR_RESIDENCIA_CODE|TERRITORIO#es|TERRITORIO_CODE|MEDIDAS#es                       |MEDIDAS_CODE|OBS_VALUE|CONFIDENCIALIDAD_OBSERVACION#es|NOTAS_OBSERVACION|ESTADO_OBSERVACION#es|ESTADO_OBSERVACION_CODE|\n",
      "+--------------+----------------+---------------+-----------------+--------------------------+---------------------+-------------+---------------+---------------------------------+------------+---------+-------------------------------+-----------------+---------------------+-----------------------+\n",
      "|01/2010       |2010-M01        |Turista        |TURISTA          |España (excluida Canarias)|ES_XIC               |Lanzarote    |ES708          |Turistas. Tasa de variación anual|TURISTAS_TVA|NaN      |NaN                            |NaN              |NaN                  |NaN                    |\n",
      "|01/2010       |2010-M01        |Turista        |TURISTA          |España (excluida Canarias)|ES_XIC               |Fuerteventura|ES704          |Turistas. Tasa de variación anual|TURISTAS_TVA|NaN      |NaN                            |NaN              |NaN                  |NaN                    |\n",
      "|01/2010       |2010-M01        |Turista        |TURISTA          |España (excluida Canarias)|ES_XIC               |Gran Canaria |ES705          |Turistas. Tasa de variación anual|TURISTAS_TVA|NaN      |NaN                            |NaN              |NaN                  |NaN                    |\n",
      "|01/2010       |2010-M01        |Turista        |TURISTA          |España (excluida Canarias)|ES_XIC               |Tenerife     |ES709          |Turistas. Tasa de variación anual|TURISTAS_TVA|NaN      |NaN                            |NaN              |NaN                  |NaN                    |\n",
      "|01/2010       |2010-M01        |Turista        |TURISTA          |España (excluida Canarias)|ES_XIC               |La Palma     |ES707          |Turistas. Tasa de variación anual|TURISTAS_TVA|NaN      |NaN                            |NaN              |NaN                  |NaN                    |\n",
      "+--------------+----------------+---------------+-----------------+--------------------------+---------------------+-------------+---------------+---------------------------------+------------+---------+-------------------------------+-----------------+---------------------+-----------------------+\n",
      "only showing top 5 rows\n"
     ]
    }
   ],
   "source": [
    "df_sp.show(5, truncate=False)"
   ]
  },
  {
   "cell_type": "markdown",
   "id": "35efe07c",
   "metadata": {},
   "source": [
    "## Exploración y Limpieza"
   ]
  },
  {
   "cell_type": "code",
   "execution_count": 9,
   "id": "65eeebf5",
   "metadata": {},
   "outputs": [],
   "source": [
    "df_sp = df_sp.na.drop(subset=[\"OBS_VALUE\"])"
   ]
  },
  {
   "cell_type": "code",
   "execution_count": 10,
   "id": "d428bc14",
   "metadata": {},
   "outputs": [],
   "source": [
    "df_sp_type = df_sp_type.na.drop(subset=[\"OBS_VALUE\"])"
   ]
  },
  {
   "cell_type": "code",
   "execution_count": 11,
   "id": "5b941f33",
   "metadata": {},
   "outputs": [],
   "source": [
    "df_sp_hotel = df_sp_hotel.na.drop(subset=[\"OBS_VALUE\"])"
   ]
  },
  {
   "cell_type": "code",
   "execution_count": 12,
   "id": "21d0ee16",
   "metadata": {},
   "outputs": [
    {
     "name": "stderr",
     "output_type": "stream",
     "text": [
      "[Stage 3:=============================>                             (2 + 2) / 4]\r"
     ]
    },
    {
     "name": "stdout",
     "output_type": "stream",
     "text": [
      "+-------+--------------+----------------+--------------------+------------------+-------------------+---------------------+-------------+---------------+--------------------+------------+-----------------+-------------------------------+--------------------+---------------------+-----------------------+\n",
      "|summary|TIME_PERIOD#es|TIME_PERIOD_CODE|     TIPO_VIAJERO#es| TIPO_VIAJERO_CODE|LUGAR_RESIDENCIA#es|LUGAR_RESIDENCIA_CODE|TERRITORIO#es|TERRITORIO_CODE|          MEDIDAS#es|MEDIDAS_CODE|        OBS_VALUE|CONFIDENCIALIDAD_OBSERVACION#es|   NOTAS_OBSERVACION|ESTADO_OBSERVACION#es|ESTADO_OBSERVACION_CODE|\n",
      "+-------+--------------+----------------+--------------------+------------------+-------------------+---------------------+-------------+---------------+--------------------+------------+-----------------+-------------------------------+--------------------+---------------------+-----------------------+\n",
      "|  count|        147814|          147814|              147814|            147814|             147814|               147814|       147814|         147814|              147814|      147814|           147814|                         147814|              147814|               147814|                 147814|\n",
      "|   mean|          NULL|            NULL|                NULL|              NULL|               NULL|                 NULL|         NULL|           NULL|                NULL|        NULL|8630.347432854785|                            NaN|                 NaN|                  NaN|                    NaN|\n",
      "| stddev|          NULL|            NULL|                NULL|              NULL|               NULL|                 NULL|         NULL|           NULL|                NULL|        NULL|44915.66737717566|                            NaN|                 NaN|                  NaN|                    NaN|\n",
      "|    min|       01/2010|        2010-M01|             Turista|           TURISTA|           Alemania|             5000_XES|Fuerteventura|          ES704|            Turistas|    TURISTAS|        -471411.0|                            NaN|Dato estimado con...|                  NaN|                    NaN|\n",
      "|    max|       12/2024|        2025-M05|Turistas secundarios|TURISTA_SECUNDARIO|              Total|                   _T|     Tenerife|          ES709|Turistas. Variaci...| TURISTAS_VP|         705598.0|                            NaN|                 NaN|                  NaN|                    NaN|\n",
      "+-------+--------------+----------------+--------------------+------------------+-------------------+---------------------+-------------+---------------+--------------------+------------+-----------------+-------------------------------+--------------------+---------------------+-----------------------+\n",
      "\n"
     ]
    },
    {
     "name": "stderr",
     "output_type": "stream",
     "text": [
      "                                                                                \r"
     ]
    }
   ],
   "source": [
    "df_sp.describe().show()"
   ]
  },
  {
   "cell_type": "code",
   "execution_count": 13,
   "id": "f6f84004",
   "metadata": {},
   "outputs": [],
   "source": [
    "df_sp = df_sp.filter(col(\"LUGAR_RESIDENCIA#es\") != \"Total\")"
   ]
  },
  {
   "cell_type": "code",
   "execution_count": 14,
   "id": "f4ba7e07",
   "metadata": {},
   "outputs": [],
   "source": [
    "df_sp = df_sp.filter(col(\"MEDIDAS#es\") == \"Turistas\")"
   ]
  },
  {
   "cell_type": "code",
   "execution_count": 15,
   "id": "82196dc8",
   "metadata": {},
   "outputs": [],
   "source": [
    "df_sp = df_sp.withColumn(\"mes\", split(col(\"TIME_PERIOD#es\"), \"/\").getItem(0)) \\\n",
    "       .withColumn(\"año\", split(col(\"TIME_PERIOD#es\"), \"/\").getItem(1))"
   ]
  },
  {
   "cell_type": "code",
   "execution_count": 16,
   "id": "802260dd",
   "metadata": {},
   "outputs": [
    {
     "name": "stderr",
     "output_type": "stream",
     "text": [
      "[Stage 6:==============>                                            (1 + 3) / 4]\r"
     ]
    },
    {
     "name": "stdout",
     "output_type": "stream",
     "text": [
      "+----------+\n",
      "|MEDIDAS#es|\n",
      "+----------+\n",
      "|  Turistas|\n",
      "+----------+\n",
      "\n"
     ]
    },
    {
     "name": "stderr",
     "output_type": "stream",
     "text": [
      "                                                                                \r"
     ]
    }
   ],
   "source": [
    "df_sp.select(\"MEDIDAS#es\").distinct().show(20)"
   ]
  },
  {
   "cell_type": "code",
   "execution_count": 17,
   "id": "2ad2fea6",
   "metadata": {},
   "outputs": [
    {
     "name": "stderr",
     "output_type": "stream",
     "text": [
      "[Stage 9:=============================>                             (2 + 2) / 4]\r"
     ]
    },
    {
     "name": "stdout",
     "output_type": "stream",
     "text": [
      "+-------+--------------------+------------+--------------+----------------+-------------+---------------+--------------------+---------------------+-----------------------------+-------------------------------+---------------+-----------------+------------------+-------------------------------+--------------------+---------------------+-----------------------+\n",
      "|summary|          MEDIDAS#es|MEDIDAS_CODE|TIME_PERIOD#es|TIME_PERIOD_CODE|TERRITORIO#es|TERRITORIO_CODE| LUGAR_RESIDENCIA#es|LUGAR_RESIDENCIA_CODE|ALOJAMIENTO_TURISTICO_TIPO#es|ALOJAMIENTO_TURISTICO_TIPO_CODE|TIPO_VIAJERO#es|TIPO_VIAJERO_CODE|         OBS_VALUE|CONFIDENCIALIDAD_OBSERVACION#es|   NOTAS_OBSERVACION|ESTADO_OBSERVACION#es|ESTADO_OBSERVACION_CODE|\n",
      "+-------+--------------------+------------+--------------+----------------+-------------+---------------+--------------------+---------------------+-----------------------------+-------------------------------+---------------+-----------------+------------------+-------------------------------+--------------------+---------------------+-----------------------+\n",
      "|  count|              100948|      100948|        100948|          100948|       100948|         100948|              100948|               100948|                       100948|                         100948|         100948|           100948|            100948|                         100948|              100948|               100948|                 100948|\n",
      "|   mean|                NULL|        NULL|          NULL|            NULL|         NULL|           NULL|                NULL|                 NULL|                         NULL|                         5510.0|           NULL|             NULL|12400.492127927233|                            NaN|                 NaN|                  NaN|                    NaN|\n",
      "| stddev|                NULL|        NULL|          NULL|            NULL|         NULL|           NULL|                NULL|                 NULL|                         NULL|           3.713136745755808...|           NULL|             NULL|  55247.4611329278|                            NaN|                 NaN|                  NaN|                    NaN|\n",
      "|    min|            Turistas|    TURISTAS|       01/2010|        2010-M01|Fuerteventura|          ES704|España (excluida ...|             5000_XES|                 Apartamentos|                        5010_L1|        Turista|          TURISTA|         -471411.0|                            NaN|Dato estimado con...|                  NaN|                    NaN|\n",
      "|    max|Turistas. Variaci...| TURISTAS_VP|       12/2024|        2025-M05|     Tenerife|          ES709|               Total|                   _T|              Vivienda propia|                             _T|        Turista|          TURISTA|          705598.0|                            NaN|                 NaN|                  NaN|                    NaN|\n",
      "+-------+--------------------+------------+--------------+----------------+-------------+---------------+--------------------+---------------------+-----------------------------+-------------------------------+---------------+-----------------+------------------+-------------------------------+--------------------+---------------------+-----------------------+\n",
      "\n"
     ]
    },
    {
     "name": "stderr",
     "output_type": "stream",
     "text": [
      "                                                                                \r"
     ]
    }
   ],
   "source": [
    "df_sp_type.describe().show()"
   ]
  },
  {
   "cell_type": "code",
   "execution_count": 18,
   "id": "489990d8",
   "metadata": {},
   "outputs": [],
   "source": [
    "df_sp_type = df_sp_type.filter(col(\"MEDIDAS#es\") == \"Turistas\")"
   ]
  },
  {
   "cell_type": "code",
   "execution_count": 19,
   "id": "8e33c133",
   "metadata": {},
   "outputs": [],
   "source": [
    "df_sp_type = df_sp_type.filter(col(\"LUGAR_RESIDENCIA#es\") != \"Total\")"
   ]
  },
  {
   "cell_type": "code",
   "execution_count": 20,
   "id": "dc6b4f8b",
   "metadata": {},
   "outputs": [],
   "source": [
    "df_sp_type = df_sp_type.filter(col(\"ALOJAMIENTO_TURISTICO_TIPO#es\") != \"Total\")"
   ]
  },
  {
   "cell_type": "code",
   "execution_count": 21,
   "id": "e910b265",
   "metadata": {},
   "outputs": [],
   "source": [
    "df_sp_type = df_sp_type.withColumn(\"mes\", split(col(\"TIME_PERIOD#es\"), \"/\").getItem(0)) \\\n",
    "       .withColumn(\"año\", split(col(\"TIME_PERIOD#es\"), \"/\").getItem(1))"
   ]
  },
  {
   "cell_type": "code",
   "execution_count": 22,
   "id": "6566d1a6",
   "metadata": {},
   "outputs": [
    {
     "name": "stderr",
     "output_type": "stream",
     "text": [
      "[Stage 12:=============================>                            (2 + 2) / 4]\r"
     ]
    },
    {
     "name": "stdout",
     "output_type": "stream",
     "text": [
      "+-------+------------------+------------------+------------------+----------------+---------------+-----------------+-------------+------------------+-----------------+-----------------+-----------------+---------------------+-----------------------+-------------------------------+---------------------------------+--------------------+\n",
      "|summary|         EVENTO#es|       EVENTO_CODE|    TIME_PERIOD#es|TIME_PERIOD_CODE|NACIONALIDAD#es|NACIONALIDAD_CODE|TERRITORIO#es|   TERRITORIO_CODE|       MEDIDAS#es|     MEDIDAS_CODE|        OBS_VALUE|ESTADO_OBSERVACION#es|ESTADO_OBSERVACION_CODE|CONFIDENCIALIDAD_OBSERVACION#es|CONFIDENCIALIDAD_OBSERVACION_CODE|NOTAS_OBSERVACION#es|\n",
      "+-------+------------------+------------------+------------------+----------------+---------------+-----------------+-------------+------------------+-----------------+-----------------+-----------------+---------------------+-----------------------+-------------------------------+---------------------------------+--------------------+\n",
      "|  count|             85356|             85356|             85356|           85356|          85356|            85356|        85356|             85356|            85356|            85356|            85356|                85356|                  85356|                          85356|                            85356|               85356|\n",
      "|   mean|              NULL|              NULL|2015.2299076807724|            NULL|           NULL|             NULL|         NULL| 36327.95909380306|             NULL|             NULL|8020.810640142462|                  NaN|                    NaN|                            NaN|                              NaN|                 NaN|\n",
      "| stddev|              NULL|              NULL| 4.462246411833534|            NULL|           NULL|             NULL|         NULL|1490.0115368564652|             NULL|             NULL|39649.85447230226|                  NaN|                    NaN|                            NaN|                              NaN|                 NaN|\n",
      "|    min|        Carnavales|        CARNAVALES|              2009|         2009-A1|       Alemania|         5000_XES|        Adeje|             35003|   Pernoctaciones|   PERNOCTACIONES|              1.0|                  NaN|                    NaN|                            NaN|                              NaN|                 NaN|\n",
      "|    max|Semana Santa larga|SEMANA_SANTA_LARGA|              2025|         2025-A1|         Suecia|               SE|        Yaiza|           ES709_O|Viajeros entrados|VIAJEROS_ENTRADOS|        1673005.0|                  NaN|                    NaN|                            NaN|                              NaN|                 NaN|\n",
      "+-------+------------------+------------------+------------------+----------------+---------------+-----------------+-------------+------------------+-----------------+-----------------+-----------------+---------------------+-----------------------+-------------------------------+---------------------------------+--------------------+\n",
      "\n"
     ]
    },
    {
     "name": "stderr",
     "output_type": "stream",
     "text": [
      "                                                                                \r"
     ]
    }
   ],
   "source": [
    "df_sp_hotel.describe().show()"
   ]
  },
  {
   "cell_type": "code",
   "execution_count": 23,
   "id": "63712406",
   "metadata": {},
   "outputs": [],
   "source": [
    "df_sp_hotel = df_sp_hotel.withColumn(\n",
    "    \"isla#es\",\n",
    "    when(col(\"TERRITORIO#es\").isin(\n",
    "        \"Adeje\", \"Arona\", \"Granadilla de Abona\", \"Guía de Isora\",\n",
    "        \"Puerto de la Cruz\", \"San Miguel de Abona\", \"San Cristóbal de La Laguna\",\n",
    "        \"Santa Cruz de Tenerife\", \"Santiago del Teide\", \"Tenerife\", \"Resto de Tenerife\"\n",
    "    ), \"Tenerife\")\n",
    "    .when(col(\"TERRITORIO#es\").isin(\n",
    "        \"Las Palmas de Gran Canaria\", \"Mogán\", \"San Bartolomé de Tirajana\", \"Resto de Gran Canaria\", \"Gran Canaria\"\n",
    "    ), \"Gran Canaria\")\n",
    "    .when(col(\"TERRITORIO#es\").isin(\n",
    "        \"Tías\", \"Teguise\", \"Yaiza\", \"Arrecife\", \"San Bartolomé\", \"Lanzarote\"\n",
    "    ), \"Lanzarote\")\n",
    "    .when(col(\"TERRITORIO#es\").isin(\n",
    "        \"Pájara\", \"Tuineje\", \"Antigua\", \"La Oliva\", \"Fuerteventura\"\n",
    "    ), \"Fuerteventura\")\n",
    "    .when(col(\"TERRITORIO#es\").isin(\n",
    "        \"Los Llanos de Aridane\", \"Breña Baja\", \"La Palma\"\n",
    "    ), \"La Palma\")\n",
    "    .when(col(\"TERRITORIO#es\").isin(\n",
    "        \"San Sebastián de La Gomera\", \"La Gomera\"\n",
    "    ), \"La Gomera\")\n",
    "    .when(col(\"TERRITORIO#es\") == \"Canarias\", \"Canarias\")\n",
    "    .otherwise(\"Desconocido\")\n",
    ")"
   ]
  },
  {
   "cell_type": "code",
   "execution_count": 24,
   "id": "b9ba2d7d",
   "metadata": {},
   "outputs": [
    {
     "name": "stderr",
     "output_type": "stream",
     "text": [
      "                                                                                \r"
     ]
    },
    {
     "data": {
      "text/plain": [
       "3270"
      ]
     },
     "execution_count": 24,
     "metadata": {},
     "output_type": "execute_result"
    }
   ],
   "source": [
    "df_sp_hotel.filter(col(\"isla#es\") == \"Canarias\").count()"
   ]
  },
  {
   "cell_type": "code",
   "execution_count": 25,
   "id": "223f3048",
   "metadata": {},
   "outputs": [],
   "source": [
    "df_sp_hotel = df_sp_hotel.filter(col(\"isla#es\") != \"Canarias\")"
   ]
  },
  {
   "cell_type": "code",
   "execution_count": 26,
   "id": "35b364ad",
   "metadata": {},
   "outputs": [
    {
     "name": "stderr",
     "output_type": "stream",
     "text": [
      "[Stage 18:>                                                         (0 + 4) / 4]\r"
     ]
    },
    {
     "name": "stdout",
     "output_type": "stream",
     "text": [
      "+-----------------+\n",
      "|MEDIDAS#es       |\n",
      "+-----------------+\n",
      "|Pernoctaciones   |\n",
      "|Viajeros entrados|\n",
      "|Viajeros alojados|\n",
      "+-----------------+\n",
      "\n"
     ]
    },
    {
     "name": "stderr",
     "output_type": "stream",
     "text": [
      "                                                                                \r"
     ]
    }
   ],
   "source": [
    "df_sp_hotel.select(\"MEDIDAS#es\").distinct().show(40, truncate=False)"
   ]
  },
  {
   "cell_type": "code",
   "execution_count": 27,
   "id": "20052918",
   "metadata": {},
   "outputs": [
    {
     "data": {
      "text/plain": [
       "[('TIME_PERIOD#es', 'string'),\n",
       " ('TIME_PERIOD_CODE', 'string'),\n",
       " ('TIPO_VIAJERO#es', 'string'),\n",
       " ('TIPO_VIAJERO_CODE', 'string'),\n",
       " ('LUGAR_RESIDENCIA#es', 'string'),\n",
       " ('LUGAR_RESIDENCIA_CODE', 'string'),\n",
       " ('TERRITORIO#es', 'string'),\n",
       " ('TERRITORIO_CODE', 'string'),\n",
       " ('MEDIDAS#es', 'string'),\n",
       " ('MEDIDAS_CODE', 'string'),\n",
       " ('OBS_VALUE', 'double'),\n",
       " ('CONFIDENCIALIDAD_OBSERVACION#es', 'double'),\n",
       " ('NOTAS_OBSERVACION', 'string'),\n",
       " ('ESTADO_OBSERVACION#es', 'string'),\n",
       " ('ESTADO_OBSERVACION_CODE', 'string'),\n",
       " ('mes', 'string'),\n",
       " ('año', 'string')]"
      ]
     },
     "execution_count": 27,
     "metadata": {},
     "output_type": "execute_result"
    }
   ],
   "source": [
    "df_sp.dtypes\n",
    "#df_sp_type.dtypes\n",
    "#df_sp_hotel.dtypes"
   ]
  },
  {
   "cell_type": "code",
   "execution_count": 28,
   "id": "c4c9ccd0",
   "metadata": {},
   "outputs": [
    {
     "name": "stdout",
     "output_type": "stream",
     "text": [
      "+--------------+----------------+---------------+-----------------+--------------------------+---------------------+-------------+---------------+----------+------------+---------+-------------------------------+-----------------+---------------------+-----------------------+---+----+\n",
      "|TIME_PERIOD#es|TIME_PERIOD_CODE|TIPO_VIAJERO#es|TIPO_VIAJERO_CODE|LUGAR_RESIDENCIA#es       |LUGAR_RESIDENCIA_CODE|TERRITORIO#es|TERRITORIO_CODE|MEDIDAS#es|MEDIDAS_CODE|OBS_VALUE|CONFIDENCIALIDAD_OBSERVACION#es|NOTAS_OBSERVACION|ESTADO_OBSERVACION#es|ESTADO_OBSERVACION_CODE|mes|año |\n",
      "+--------------+----------------+---------------+-----------------+--------------------------+---------------------+-------------+---------------+----------+------------+---------+-------------------------------+-----------------+---------------------+-----------------------+---+----+\n",
      "|01/2010       |2010-M01        |Turista        |TURISTA          |España (excluida Canarias)|ES_XIC               |Lanzarote    |ES708          |Turistas  |TURISTAS    |19305.0  |NaN                            |NaN              |NaN                  |NaN                    |01 |2010|\n",
      "|01/2010       |2010-M01        |Turista        |TURISTA          |España (excluida Canarias)|ES_XIC               |Fuerteventura|ES704          |Turistas  |TURISTAS    |6497.0   |NaN                            |NaN              |NaN                  |NaN                    |01 |2010|\n",
      "|01/2010       |2010-M01        |Turista        |TURISTA          |España (excluida Canarias)|ES_XIC               |Gran Canaria |ES705          |Turistas  |TURISTAS    |25663.0  |NaN                            |NaN              |NaN                  |NaN                    |01 |2010|\n",
      "|01/2010       |2010-M01        |Turista        |TURISTA          |España (excluida Canarias)|ES_XIC               |Tenerife     |ES709          |Turistas  |TURISTAS    |48383.0  |NaN                            |NaN              |NaN                  |NaN                    |01 |2010|\n",
      "|01/2010       |2010-M01        |Turista        |TURISTA          |España (excluida Canarias)|ES_XIC               |La Palma     |ES707          |Turistas  |TURISTAS    |3273.0   |NaN                            |NaN              |NaN                  |NaN                    |01 |2010|\n",
      "+--------------+----------------+---------------+-----------------+--------------------------+---------------------+-------------+---------------+----------+------------+---------+-------------------------------+-----------------+---------------------+-----------------------+---+----+\n",
      "only showing top 5 rows\n",
      "+----------+------------+--------------+----------------+-------------+---------------+--------------------------+---------------------+--------------------------------+-------------------------------+---------------+-----------------+---------+-------------------------------+-----------------+---------------------+-----------------------+---+----+\n",
      "|MEDIDAS#es|MEDIDAS_CODE|TIME_PERIOD#es|TIME_PERIOD_CODE|TERRITORIO#es|TERRITORIO_CODE|LUGAR_RESIDENCIA#es       |LUGAR_RESIDENCIA_CODE|ALOJAMIENTO_TURISTICO_TIPO#es   |ALOJAMIENTO_TURISTICO_TIPO_CODE|TIPO_VIAJERO#es|TIPO_VIAJERO_CODE|OBS_VALUE|CONFIDENCIALIDAD_OBSERVACION#es|NOTAS_OBSERVACION|ESTADO_OBSERVACION#es|ESTADO_OBSERVACION_CODE|mes|año |\n",
      "+----------+------------+--------------+----------------+-------------+---------------+--------------------------+---------------------+--------------------------------+-------------------------------+---------------+-----------------+---------+-------------------------------+-----------------+---------------------+-----------------------+---+----+\n",
      "|Turistas  |TURISTAS    |05/2010       |2010-M05        |Lanzarote    |ES708          |España (excluida Canarias)|ES_XIC               |Hoteles y alojamientos similares|5510                           |Turista        |TURISTA          |23975.0  |NaN                            |NaN              |NaN                  |NaN                    |05 |2010|\n",
      "|Turistas  |TURISTAS    |05/2010       |2010-M05        |Fuerteventura|ES704          |España (excluida Canarias)|ES_XIC               |Hoteles y alojamientos similares|5510                           |Turista        |TURISTA          |8935.0   |NaN                            |NaN              |NaN                  |NaN                    |05 |2010|\n",
      "|Turistas  |TURISTAS    |05/2010       |2010-M05        |Gran Canaria |ES705          |España (excluida Canarias)|ES_XIC               |Hoteles y alojamientos similares|5510                           |Turista        |TURISTA          |30805.0  |NaN                            |NaN              |NaN                  |NaN                    |05 |2010|\n",
      "|Turistas  |TURISTAS    |05/2010       |2010-M05        |Tenerife     |ES709          |España (excluida Canarias)|ES_XIC               |Hoteles y alojamientos similares|5510                           |Turista        |TURISTA          |53272.0  |NaN                            |NaN              |NaN                  |NaN                    |05 |2010|\n",
      "|Turistas  |TURISTAS    |05/2010       |2010-M05        |La Palma     |ES707          |España (excluida Canarias)|ES_XIC               |Hoteles y alojamientos similares|5510                           |Turista        |TURISTA          |3252.0   |NaN                            |NaN              |NaN                  |NaN                    |05 |2010|\n",
      "+----------+------------+--------------+----------------+-------------+---------------+--------------------------+---------------------+--------------------------------+-------------------------------+---------------+-----------------+---------+-------------------------------+-----------------+---------------------+-----------------------+---+----+\n",
      "only showing top 5 rows\n",
      "+-----------------------------------------+--------------------------------------+--------------+----------------+---------------+-----------------+-------------+---------------+--------------+--------------+---------+---------------------+-----------------------+-------------------------------+---------------------------------+--------------------+---------+\n",
      "|EVENTO#es                                |EVENTO_CODE                           |TIME_PERIOD#es|TIME_PERIOD_CODE|NACIONALIDAD#es|NACIONALIDAD_CODE|TERRITORIO#es|TERRITORIO_CODE|MEDIDAS#es    |MEDIDAS_CODE  |OBS_VALUE|ESTADO_OBSERVACION#es|ESTADO_OBSERVACION_CODE|CONFIDENCIALIDAD_OBSERVACION#es|CONFIDENCIALIDAD_OBSERVACION_CODE|NOTAS_OBSERVACION#es|isla#es  |\n",
      "+-----------------------------------------+--------------------------------------+--------------+----------------+---------------+-----------------+-------------+---------------+--------------+--------------+---------+---------------------+-----------------------+-------------------------------+---------------------------------+--------------------+---------+\n",
      "|Gay Pride Maspalomas                     |GAY_PRIDE_MASPALOMAS                  |2009          |2009-A1         |Reino Unido    |GB               |Lanzarote    |ES708          |Pernoctaciones|PERNOCTACIONES|30039.0  |NaN                  |NaN                    |NaN                            |NaN                              |NaN                 |Lanzarote|\n",
      "|Semana Santa larga                       |SEMANA_SANTA_LARGA                    |2009          |2009-A1         |Reino Unido    |GB               |Lanzarote    |ES708          |Pernoctaciones|PERNOCTACIONES|59269.0  |NaN                  |NaN                    |NaN                            |NaN                              |NaN                 |Lanzarote|\n",
      "|Festival Womad Las Palmas de Gran Canaria|FESTIVAL_WOMAD_LAS_PALMAS_GRAN_CANARIA|2009          |2009-A1         |Reino Unido    |GB               |Lanzarote    |ES708          |Pernoctaciones|PERNOCTACIONES|21905.0  |NaN                  |NaN                    |NaN                            |NaN                              |NaN                 |Lanzarote|\n",
      "|Puente de todos los santos               |PUENTE_TODOS_SANTOS                   |2009          |2009-A1         |Reino Unido    |GB               |Lanzarote    |ES708          |Pernoctaciones|PERNOCTACIONES|18652.0  |NaN                  |NaN                    |NaN                            |NaN                              |NaN                 |Lanzarote|\n",
      "|Ironman Lanzarote (quincena previa)      |IRONMAN_LANZAROTE_QUINCENA_PREVIA     |2009          |2009-A1         |Reino Unido    |GB               |Lanzarote    |ES708          |Pernoctaciones|PERNOCTACIONES|65756.0  |NaN                  |NaN                    |NaN                            |NaN                              |NaN                 |Lanzarote|\n",
      "+-----------------------------------------+--------------------------------------+--------------+----------------+---------------+-----------------+-------------+---------------+--------------+--------------+---------+---------------------+-----------------------+-------------------------------+---------------------------------+--------------------+---------+\n",
      "only showing top 5 rows\n"
     ]
    }
   ],
   "source": [
    "df_sp.show(5, truncate=False)\n",
    "df_sp_type.show(5, truncate=False)\n",
    "df_sp_hotel.show(5, truncate=False)"
   ]
  },
  {
   "cell_type": "markdown",
   "id": "f442617f",
   "metadata": {},
   "source": [
    "## Querys Simple\n"
   ]
  },
  {
   "cell_type": "markdown",
   "id": "a97d0c96",
   "metadata": {},
   "source": [
    "### Analisis de tendencias temporales"
   ]
  },
  {
   "cell_type": "code",
   "execution_count": 29,
   "id": "111e63cd",
   "metadata": {},
   "outputs": [
    {
     "name": "stdout",
     "output_type": "stream",
     "text": [
      "+----+--------------+\n",
      "| año|total_turistas|\n",
      "+----+--------------+\n",
      "|2010|   3.8517657E7|\n",
      "|2011|   4.4786022E7|\n",
      "|2012|   4.4500153E7|\n",
      "|2013|   4.7214312E7|\n",
      "|2014|   5.1518555E7|\n",
      "|2015|   5.2939927E7|\n",
      "|2016|   5.8696414E7|\n",
      "|2017|   6.3327424E7|\n",
      "|2018|   6.0927033E7|\n",
      "|2019|   5.8320513E7|\n",
      "|2020|   1.7653769E7|\n",
      "|2021|   2.4734822E7|\n",
      "|2022|   5.6040126E7|\n",
      "|2023|   6.2861152E7|\n",
      "|2024|   6.9648748E7|\n",
      "|2025|    3.109095E7|\n",
      "+----+--------------+\n",
      "\n"
     ]
    },
    {
     "name": "stderr",
     "output_type": "stream",
     "text": [
      "                                                                                \r"
     ]
    }
   ],
   "source": [
    "evolucion_anual = df_sp.groupBy(\"año\") \\\n",
    "    .agg(sum(\"OBS_VALUE\").alias(\"total_turistas\")) \\\n",
    "    .orderBy(\"año\")\n",
    "\n",
    "evolucion_anual.show()"
   ]
  },
  {
   "cell_type": "code",
   "execution_count": 30,
   "id": "048d3ee4",
   "metadata": {},
   "outputs": [
    {
     "name": "stdout",
     "output_type": "stream",
     "text": [
      "\n",
      " * ESTACIONALIDAD PROMEDIO *\n",
      "+---+------------------+\n",
      "|mes| promedio_turistas|\n",
      "+---+------------------+\n",
      "| 01|28376.109062377403|\n",
      "| 02|28616.195321637428|\n",
      "| 03|30330.468908877592|\n",
      "| 04|27445.060025542785|\n",
      "| 05|23084.813653928726|\n",
      "| 06| 22395.49578713969|\n",
      "| 07|26712.469298245614|\n",
      "| 08|27373.848260869567|\n",
      "| 09| 24405.86176727909|\n",
      "| 10|29708.209232096637|\n",
      "| 11|29463.887347625052|\n",
      "| 12|30222.960620025136|\n",
      "+---+------------------+\n",
      "\n"
     ]
    }
   ],
   "source": [
    "estacionalidad = df_sp.groupBy(\"mes\") \\\n",
    "    .agg(avg(\"OBS_VALUE\").alias(\"promedio_turistas\")) \\\n",
    "    .orderBy(\"mes\")\n",
    "\n",
    "print(\"\\n * ESTACIONALIDAD PROMEDIO *\")\n",
    "estacionalidad.show()"
   ]
  },
  {
   "cell_type": "markdown",
   "id": "19c62093",
   "metadata": {},
   "source": [
    "### Origen del turista"
   ]
  },
  {
   "cell_type": "code",
   "execution_count": 31,
   "id": "ccf14ad2",
   "metadata": {},
   "outputs": [
    {
     "name": "stdout",
     "output_type": "stream",
     "text": [
      "+------------------------------------------------------+--------------+\n",
      "|LUGAR_RESIDENCIA#es                                   |total_turistas|\n",
      "+------------------------------------------------------+--------------+\n",
      "|Mundo (excluida España)                               |3.65209776E8  |\n",
      "|Reino Unido                                           |1.29455115E8  |\n",
      "|Alemania                                              |8.4188561E7   |\n",
      "|España (excluida Canarias)                            |5.2357104E7   |\n",
      "|Países Nórdicos                                       |4.2335285E7   |\n",
      "|Otros países o territorios del mundo (excluida España)|3.7434054E7   |\n",
      "|Francia                                               |1.6561004E7   |\n",
      "|Países Bajos                                          |1.6299158E7   |\n",
      "|Irlanda                                               |1.463937E7    |\n",
      "|Italia                                                |1.3404208E7   |\n",
      "+------------------------------------------------------+--------------+\n",
      "\n"
     ]
    }
   ],
   "source": [
    "top_paises = df_sp.groupBy(\"LUGAR_RESIDENCIA#es\") \\\n",
    "    .agg(sum(\"OBS_VALUE\").alias(\"total_turistas\")) \\\n",
    "    .orderBy(desc(\"total_turistas\")) \\\n",
    "    .limit(10)\n",
    "\n",
    "top_paises.show(10, truncate=False)"
   ]
  },
  {
   "cell_type": "code",
   "execution_count": 32,
   "id": "61e82cb0",
   "metadata": {},
   "outputs": [
    {
     "name": "stdout",
     "output_type": "stream",
     "text": [
      "\n",
      " * EVOLUCIÓN PRINCIPALES MERCADOS * \n",
      "+----+--------------------------+--------------+\n",
      "|año |LUGAR_RESIDENCIA#es       |total_turistas|\n",
      "+----+--------------------------+--------------+\n",
      "|2010|Alemania                  |4516633.0     |\n",
      "|2010|España (excluida Canarias)|3536486.0     |\n",
      "|2010|Francia                   |417339.0      |\n",
      "|2010|Países Bajos              |766840.0      |\n",
      "|2010|Países Nórdicos           |2363375.0     |\n",
      "|2010|Reino Unido               |6152833.0     |\n",
      "|2011|Alemania                  |5092344.0     |\n",
      "|2011|España (excluida Canarias)|3503268.0     |\n",
      "|2011|Francia                   |602680.0      |\n",
      "|2011|Países Bajos              |916685.0      |\n",
      "|2011|Países Nórdicos           |2983043.0     |\n",
      "|2011|Reino Unido               |7032317.0     |\n",
      "|2012|Alemania                  |5331881.0     |\n",
      "|2012|España (excluida Canarias)|3226340.0     |\n",
      "|2012|Francia                   |635419.0      |\n",
      "|2012|Países Bajos              |924325.0      |\n",
      "|2012|Países Nórdicos           |3009467.0     |\n",
      "|2012|Reino Unido               |6935236.0     |\n",
      "|2013|Alemania                  |5766585.0     |\n",
      "|2013|España (excluida Canarias)|3157877.0     |\n",
      "+----+--------------------------+--------------+\n",
      "only showing top 20 rows\n"
     ]
    },
    {
     "name": "stderr",
     "output_type": "stream",
     "text": [
      "                                                                                \r"
     ]
    }
   ],
   "source": [
    "principales_mercados = df_sp.filter(col(\"LUGAR_RESIDENCIA#es\").isin([\"Reino Unido\", \"Alemania\", \"España (excluida Canarias)\", \"Países Nórdicos\", \"Francia\", \"Países Bajos\"])) \\\n",
    "    .groupBy(\"año\", \"LUGAR_RESIDENCIA#es\") \\\n",
    "    .agg(sum(\"OBS_VALUE\").alias(\"total_turistas\")) \\\n",
    "    .orderBy(\"año\", \"LUGAR_RESIDENCIA#es\")\n",
    "\n",
    "print(\"\\n * EVOLUCIÓN PRINCIPALES MERCADOS * \")\n",
    "principales_mercados.show(truncate=False)"
   ]
  },
  {
   "cell_type": "markdown",
   "id": "5604e5f4",
   "metadata": {},
   "source": [
    "### Analisis por islas"
   ]
  },
  {
   "cell_type": "code",
   "execution_count": 33,
   "id": "151d5605",
   "metadata": {},
   "outputs": [
    {
     "name": "stdout",
     "output_type": "stream",
     "text": [
      "+-------------+--------------+----------+\n",
      "|TERRITORIO#es|total_turistas|porcentaje|\n",
      "+-------------+--------------+----------+\n",
      "|     Tenerife|  2.98255183E8|      38.1|\n",
      "| Gran Canaria|  2.08667187E8|     26.66|\n",
      "|    Lanzarote|  1.45773629E8|     18.62|\n",
      "|Fuerteventura|  1.15490551E8|     14.75|\n",
      "|     La Palma|   1.4591027E7|      1.86|\n",
      "+-------------+--------------+----------+\n",
      "\n"
     ]
    }
   ],
   "source": [
    "from pyspark.sql.window import Window\n",
    "\n",
    "distribucion_islas = df_sp.groupBy(\"TERRITORIO#es\") \\\n",
    "    .agg(sum(\"OBS_VALUE\").alias(\"total_turistas\")) \\\n",
    "    .withColumn(\"porcentaje\", \n",
    "                round(col(\"total_turistas\") * 100.0 / sum(\"total_turistas\").over(Window.partitionBy()), 2)) \\\n",
    "    .orderBy(desc(\"total_turistas\"))\n",
    "\n",
    "distribucion_islas.show()"
   ]
  },
  {
   "cell_type": "code",
   "execution_count": 34,
   "id": "c93b770d",
   "metadata": {},
   "outputs": [
    {
     "name": "stdout",
     "output_type": "stream",
     "text": [
      "\n",
      "* CRECIMIENTO ANUAL POR ISLA (2019-2025) *\n"
     ]
    },
    {
     "name": "stderr",
     "output_type": "stream",
     "text": [
      "[Stage 42:==============>                                           (1 + 3) / 4]\r"
     ]
    },
    {
     "name": "stdout",
     "output_type": "stream",
     "text": [
      "+-------------+----+------------+---------------------+----------------------+\n",
      "|TERRITORIO#es|año |turistas_año|turistas_año_anterior|crecimiento_porcentual|\n",
      "+-------------+----+------------+---------------------+----------------------+\n",
      "|Fuerteventura|2020|2437865.0   |7761987.0            |-68.59                |\n",
      "|Fuerteventura|2021|3803256.0   |2437865.0            |56.01                 |\n",
      "|Fuerteventura|2022|8212629.0   |3803256.0            |115.94                |\n",
      "|Fuerteventura|2023|9167385.0   |8212629.0            |11.63                 |\n",
      "|Fuerteventura|2024|1.0274469E7 |9167385.0            |12.08                 |\n",
      "|Fuerteventura|2025|4696607.0   |1.0274469E7          |-54.29                |\n",
      "|Gran Canaria |2020|4843917.0   |1.5786757E7          |-69.32                |\n",
      "|Gran Canaria |2021|6377406.0   |4843917.0            |31.66                 |\n",
      "|Gran Canaria |2022|1.4369791E7 |6377406.0            |125.32                |\n",
      "|Gran Canaria |2023|1.6304301E7 |1.4369791E7          |13.46                 |\n",
      "|Gran Canaria |2024|1.7764099E7 |1.6304301E7          |8.95                  |\n",
      "|Gran Canaria |2025|8146060.0   |1.7764099E7          |-54.14                |\n",
      "|La Palma     |2020|436237.0    |1253210.0            |-65.19                |\n",
      "|La Palma     |2021|466878.0    |436237.0             |7.02                  |\n",
      "|La Palma     |2022|757738.0    |466878.0             |62.3                  |\n",
      "|La Palma     |2023|822520.0    |757738.0             |8.55                  |\n",
      "|La Palma     |2024|918298.0    |822520.0             |11.64                 |\n",
      "|La Palma     |2025|507514.0    |918298.0             |-44.73                |\n",
      "|Lanzarote    |2020|2913484.0   |1.1643227E7          |-74.98                |\n",
      "|Lanzarote    |2021|4183543.0   |2913484.0            |43.59                 |\n",
      "+-------------+----+------------+---------------------+----------------------+\n",
      "only showing top 20 rows\n"
     ]
    },
    {
     "name": "stderr",
     "output_type": "stream",
     "text": [
      "                                                                                \r"
     ]
    }
   ],
   "source": [
    "window_isla = Window.partitionBy(\"TERRITORIO#es\").orderBy(\"año\")\n",
    "\n",
    "crecimiento_islas = df_sp.filter(col(\"año\") >= 2019) \\\n",
    "    .groupBy(\"TERRITORIO#es\", \"año\") \\\n",
    "    .agg(sum(\"OBS_VALUE\").alias(\"turistas_año\")) \\\n",
    "    .withColumn(\"turistas_año_anterior\", lag(\"turistas_año\").over(window_isla)) \\\n",
    "    .withColumn(\"crecimiento_porcentual\", \n",
    "                round(((col(\"turistas_año\") - col(\"turistas_año_anterior\")) / col(\"turistas_año_anterior\")) * 100, 2)) \\\n",
    "    .filter(col(\"crecimiento_porcentual\").isNotNull()) \\\n",
    "    .orderBy(\"TERRITORIO#es\", \"año\")\n",
    "\n",
    "print(\"\\n* CRECIMIENTO ANUAL POR ISLA (2019-2025) *\")\n",
    "crecimiento_islas.show(truncate=False)"
   ]
  },
  {
   "cell_type": "markdown",
   "id": "0a8e2a67",
   "metadata": {},
   "source": [
    "### Tipo de alojamiento\n"
   ]
  },
  {
   "cell_type": "code",
   "execution_count": 35,
   "id": "5ade372e",
   "metadata": {},
   "outputs": [
    {
     "name": "stdout",
     "output_type": "stream",
     "text": [
      "+-----------------------------------------------------+--------------+----------+\n",
      "|ALOJAMIENTO_TURISTICO_TIPO#es                        |total_turistas|porcentaje|\n",
      "+-----------------------------------------------------+--------------+----------+\n",
      "|Hoteles y alojamientos similares                     |1.75220172E8  |45.63     |\n",
      "|Hoteles y alojamientos similares excepto apartamentos|1.52313748E8  |39.66     |\n",
      "|Apartamentos                                         |2.2906528E7   |5.97      |\n",
      "|Vivienda de amigos y familiares                      |1.0777289E7   |2.81      |\n",
      "|Cruceros                                             |8329976.0     |2.17      |\n",
      "|Otro                                                 |8245370.0     |2.15      |\n",
      "|Vivienda propia                                      |6210904.0     |1.62      |\n",
      "+-----------------------------------------------------+--------------+----------+\n",
      "\n"
     ]
    }
   ],
   "source": [
    "alojamiento_preferencias = df_sp_type.groupBy(\"ALOJAMIENTO_TURISTICO_TIPO#es\") \\\n",
    "    .agg(sum(\"OBS_VALUE\").alias(\"total_turistas\")) \\\n",
    "    .withColumn(\"porcentaje\", \n",
    "                round(col(\"total_turistas\") * 100.0 / sum(\"total_turistas\").over(Window.partitionBy()), 2)) \\\n",
    "    .orderBy(desc(\"total_turistas\"))\n",
    "\n",
    "alojamiento_preferencias.show(truncate=False)"
   ]
  },
  {
   "cell_type": "code",
   "execution_count": 36,
   "id": "839881cd",
   "metadata": {},
   "outputs": [
    {
     "name": "stdout",
     "output_type": "stream",
     "text": [
      "\n",
      " * PREFERENCIAS DE ALOJAMIENTO POR PAÍS *\n",
      "+--------------------------+-----------------------------------------------------+------------+------------+----------+\n",
      "|LUGAR_RESIDENCIA#es       |ALOJAMIENTO_TURISTICO_TIPO#es                        |turistas    |total_pais  |porcentaje|\n",
      "+--------------------------+-----------------------------------------------------+------------+------------+----------+\n",
      "|España (excluida Canarias)|Hoteles y alojamientos similares                     |2.0363245E7 |4.6541965E7 |43.75     |\n",
      "|España (excluida Canarias)|Hoteles y alojamientos similares excepto apartamentos|1.8307918E7 |4.6541965E7 |39.34     |\n",
      "|España (excluida Canarias)|Vivienda de amigos y familiares                      |4010119.0   |4.6541965E7 |8.62      |\n",
      "|España (excluida Canarias)|Apartamentos                                         |2055369.0   |4.6541965E7 |4.42      |\n",
      "|España (excluida Canarias)|Otro                                                 |1270651.0   |4.6541965E7 |2.73      |\n",
      "|España (excluida Canarias)|Vivienda propia                                      |445441.0    |4.6541965E7 |0.96      |\n",
      "|España (excluida Canarias)|Cruceros                                             |89222.0     |4.6541965E7 |0.19      |\n",
      "|Mundo (excluida España)   |Hoteles y alojamientos similares                     |1.54856927E8|3.37462022E8|45.89     |\n",
      "|Mundo (excluida España)   |Hoteles y alojamientos similares excepto apartamentos|1.3400583E8 |3.37462022E8|39.71     |\n",
      "|Mundo (excluida España)   |Apartamentos                                         |2.0851159E7 |3.37462022E8|6.18      |\n",
      "|Mundo (excluida España)   |Cruceros                                             |8240754.0   |3.37462022E8|2.44      |\n",
      "|Mundo (excluida España)   |Otro                                                 |6974719.0   |3.37462022E8|2.07      |\n",
      "|Mundo (excluida España)   |Vivienda de amigos y familiares                      |6767170.0   |3.37462022E8|2.01      |\n",
      "|Mundo (excluida España)   |Vivienda propia                                      |5765463.0   |3.37462022E8|1.71      |\n",
      "+--------------------------+-----------------------------------------------------+------------+------------+----------+\n",
      "\n"
     ]
    }
   ],
   "source": [
    "alojamiento_por_pais = df_sp_type.groupBy(\"LUGAR_RESIDENCIA#es\", \"ALOJAMIENTO_TURISTICO_TIPO#es\") \\\n",
    "    .agg(sum(\"OBS_VALUE\").alias(\"turistas\")) \\\n",
    "    .withColumn(\"total_pais\", sum(\"turistas\").over(Window.partitionBy(\"LUGAR_RESIDENCIA#es\"))) \\\n",
    "    .withColumn(\"porcentaje\", round(col(\"turistas\") * 100.0 / col(\"total_pais\"), 2)) \\\n",
    "    .filter(col(\"total_pais\") > 100000) \\\n",
    "    .orderBy(\"LUGAR_RESIDENCIA#es\", desc(\"porcentaje\"))\n",
    "\n",
    "print(\"\\n * PREFERENCIAS DE ALOJAMIENTO POR PAÍS *\")\n",
    "alojamiento_por_pais.show(truncate=False)"
   ]
  },
  {
   "cell_type": "markdown",
   "id": "27a8d114",
   "metadata": {},
   "source": [
    "### Eventos especiales"
   ]
  },
  {
   "cell_type": "code",
   "execution_count": 37,
   "id": "2d758ce5",
   "metadata": {},
   "outputs": [
    {
     "name": "stdout",
     "output_type": "stream",
     "text": [
      "+---------------------------------------------------------+-----------------------+--------------------------+--------------------------+\n",
      "|EVENTO#es                                                |promedio_pernoctaciones|promedio_viajeros_entrados|promedio_viajeros_alojados|\n",
      "+---------------------------------------------------------+-----------------------+--------------------------+--------------------------+\n",
      "|Fiestas Lustrales de la Bajada de la Virgen de las Nieves|25780.33134920635      |3192.633266533066         |3982.3306613226455        |\n",
      "|Ironman Lanzarote (quincena previa)                      |23072.118979151688     |3031.3113685734975        |3033.6585807385954        |\n",
      "|Semana Santa larga                                       |18477.15444821289      |2810.2057742782154        |3332.015191199581         |\n",
      "|Ironman Lanzarote (semana previa)                        |12618.344574780058     |1714.3904904530139        |1715.7731186821416        |\n",
      "|Carnavales                                               |9970.70333414456       |1498.0538083538083        |1833.7352147239264        |\n",
      "|Semana Santa corta                                       |9596.565973136687      |1416.0118057418836        |1749.3681538872563        |\n",
      "|Puente de diciembre                                      |9317.026875699888      |1260.9946221341636        |1262.2405887347863        |\n",
      "|Gay Pride Maspalomas                                     |8928.178903826267      |1201.8965884861407        |1202.9008528784648        |\n",
      "|Puente de todos los santos                               |8593.754801920768      |1366.8855403348555        |3038.8844417694854        |\n",
      "|Festival Mueca                                           |8169.137846655791      |1103.4552364864865        |1105.1241554054054        |\n",
      "|Festival Womad Las Palmas de Gran Canaria                |6113.009345794392      |826.3337893296854         |822.6484268125855         |\n",
      "+---------------------------------------------------------+-----------------------+--------------------------+--------------------------+\n",
      "\n"
     ]
    },
    {
     "name": "stderr",
     "output_type": "stream",
     "text": [
      "                                                                                \r"
     ]
    }
   ],
   "source": [
    "ranking_eventos = df_sp_hotel.groupBy(\"EVENTO#es\").agg(\n",
    "    avg(when(col(\"MEDIDAS#es\") == \"Pernoctaciones\", col(\"OBS_VALUE\"))).alias(\"promedio_pernoctaciones\"),\n",
    "    avg(when(col(\"MEDIDAS#es\") == \"Viajeros entrados\", col(\"OBS_VALUE\"))).alias(\"promedio_viajeros_entrados\"),\n",
    "    avg(when(col(\"MEDIDAS#es\") == \"Viajeros alojados\", col(\"OBS_VALUE\"))).alias(\"promedio_viajeros_alojados\")\n",
    ").orderBy(desc(\"promedio_pernoctaciones\"))\n",
    "\n",
    "ranking_eventos.show(truncate=False)"
   ]
  },
  {
   "cell_type": "code",
   "execution_count": 38,
   "id": "02ac204f",
   "metadata": {},
   "outputs": [
    {
     "name": "stdout",
     "output_type": "stream",
     "text": [
      "\n",
      "* EVOLUCIÓN DE EVENTOS ESPECIALES*\n",
      "+--------------+---------------------------------------------------------+--------------------+\n",
      "|TIME_PERIOD#es|EVENTO#es                                                |total_pernoctaciones|\n",
      "+--------------+---------------------------------------------------------+--------------------+\n",
      "|2009          |Carnavales                                               |1838248.0           |\n",
      "|2009          |Festival Womad Las Palmas de Gran Canaria                |1493625.0           |\n",
      "|2009          |Gay Pride Maspalomas                                     |1938510.0           |\n",
      "|2009          |Ironman Lanzarote (quincena previa)                      |4354433.0           |\n",
      "|2009          |Ironman Lanzarote (semana previa)                        |2360624.0           |\n",
      "|2009          |Puente de diciembre                                      |1682952.0           |\n",
      "|2009          |Puente de todos los santos                               |1275513.0           |\n",
      "|2009          |Semana Santa corta                                       |1991427.0           |\n",
      "|2009          |Semana Santa larga                                       |3734943.0           |\n",
      "|2010          |Carnavales                                               |2027433.0           |\n",
      "|2010          |Festival Mueca                                           |1888582.0           |\n",
      "|2010          |Festival Womad Las Palmas de Gran Canaria                |1710401.0           |\n",
      "|2010          |Fiestas Lustrales de la Bajada de la Virgen de las Nieves|5939539.0           |\n",
      "|2010          |Gay Pride Maspalomas                                     |2060333.0           |\n",
      "|2010          |Ironman Lanzarote (quincena previa)                      |4669459.0           |\n",
      "|2010          |Ironman Lanzarote (semana previa)                        |2488526.0           |\n",
      "|2010          |Puente de diciembre                                      |2166230.0           |\n",
      "|2010          |Puente de todos los santos                               |1620674.0           |\n",
      "|2010          |Semana Santa corta                                       |2143926.0           |\n",
      "|2010          |Semana Santa larga                                       |4033158.0           |\n",
      "+--------------+---------------------------------------------------------+--------------------+\n",
      "only showing top 20 rows\n"
     ]
    },
    {
     "name": "stderr",
     "output_type": "stream",
     "text": [
      "                                                                                \r"
     ]
    }
   ],
   "source": [
    "evolucion_eventos = df_sp_hotel.groupBy(\"TIME_PERIOD#es\", \"EVENTO#es\") \\\n",
    "    .agg(sum(when(col(\"MEDIDAS#es\") == \"Pernoctaciones\", col(\"OBS_VALUE\"))).alias(\"total_pernoctaciones\")) \\\n",
    "    .orderBy(\"TIME_PERIOD#es\", \"EVENTO#es\")\n",
    "\n",
    "print(\"\\n* EVOLUCIÓN DE EVENTOS ESPECIALES*\")\n",
    "evolucion_eventos.show(truncate=False)"
   ]
  },
  {
   "cell_type": "markdown",
   "id": "cf9af7ee",
   "metadata": {},
   "source": [
    "## Querys Avanzadas"
   ]
  },
  {
   "cell_type": "markdown",
   "id": "a557a99f",
   "metadata": {},
   "source": [
    "### Covid-19"
   ]
  },
  {
   "cell_type": "code",
   "execution_count": 39,
   "id": "8fc8035a",
   "metadata": {},
   "outputs": [
    {
     "name": "stdout",
     "output_type": "stream",
     "text": [
      "\n",
      " * IMPACTO COVID-19 *\n",
      "+----+-------------+--------------+---------------+\n",
      "|año |TERRITORIO#es|total_turistas|variacion_covid|\n",
      "+----+-------------+--------------+---------------+\n",
      "|2020|Fuerteventura|2437865.0     |-68.59         |\n",
      "|2021|Fuerteventura|3803256.0     |-51.0          |\n",
      "|2020|Gran Canaria |4843917.0     |-69.32         |\n",
      "|2021|Gran Canaria |6377406.0     |-59.6          |\n",
      "|2020|La Palma     |436237.0      |-65.19         |\n",
      "|2021|La Palma     |466878.0      |-62.75         |\n",
      "|2020|Lanzarote    |2913484.0     |-74.98         |\n",
      "|2021|Lanzarote    |4183543.0     |-64.07         |\n",
      "|2020|Tenerife     |7022266.0     |-67.9          |\n",
      "|2021|Tenerife     |9903739.0     |-54.73         |\n",
      "+----+-------------+--------------+---------------+\n",
      "\n"
     ]
    }
   ],
   "source": [
    "impacto_covid = df_sp.filter(col(\"año\").isin([2019, 2020, 2021])) \\\n",
    "    .groupBy(\"año\", \"TERRITORIO#es\") \\\n",
    "    .agg(sum(\"OBS_VALUE\").alias(\"total_turistas\")) \\\n",
    "    .withColumn(\"año_base\", when(col(\"año\") == 2019, col(\"total_turistas\")).otherwise(None)) \\\n",
    "    .withColumn(\"año_base_filled\", \n",
    "                last(\"año_base\", ignorenulls=True).over(Window.partitionBy(\"TERRITORIO#es\").orderBy(\"año\"))) \\\n",
    "    .withColumn(\"variacion_covid\", \n",
    "                round(((col(\"total_turistas\") - col(\"año_base_filled\")) / col(\"año_base_filled\")) * 100, 2)) \\\n",
    "    .filter(col(\"año\") != 2019) \\\n",
    "    .select(\"año\", \"TERRITORIO#es\", \"total_turistas\", \"variacion_covid\") \\\n",
    "    .orderBy(\"TERRITORIO#es\", \"año\")\n",
    "\n",
    "print(\"\\n * IMPACTO COVID-19 *\")\n",
    "impacto_covid.show(truncate=False)"
   ]
  },
  {
   "cell_type": "code",
   "execution_count": 40,
   "id": "fe55df01",
   "metadata": {},
   "outputs": [
    {
     "name": "stdout",
     "output_type": "stream",
     "text": [
      "\n",
      "  *RECUPERACIÓN POST-COVID *\n",
      "+----+-------------+--------------+-----------------------+\n",
      "| año|TERRITORIO#es|total_turistas|porcentaje_recuperacion|\n",
      "+----+-------------+--------------+-----------------------+\n",
      "|2022|Fuerteventura|     8212629.0|                 105.81|\n",
      "|2023|Fuerteventura|     9167385.0|                 118.11|\n",
      "|2024|Fuerteventura|   1.0274469E7|                 132.37|\n",
      "|2022| Gran Canaria|   1.4369791E7|                  91.02|\n",
      "|2023| Gran Canaria|   1.6304301E7|                 103.28|\n",
      "|2024| Gran Canaria|   1.7764099E7|                 112.53|\n",
      "|2022|     La Palma|      757738.0|                  60.46|\n",
      "|2023|     La Palma|      822520.0|                  65.63|\n",
      "|2024|     La Palma|      918298.0|                  73.28|\n",
      "|2022|    Lanzarote|   1.0564541E7|                  90.74|\n",
      "|2023|    Lanzarote|   1.2064467E7|                 103.62|\n",
      "|2024|    Lanzarote|   1.3039869E7|                  112.0|\n",
      "|2022|     Tenerife|   2.2135427E7|                 101.19|\n",
      "|2023|     Tenerife|   2.4502479E7|                 112.01|\n",
      "|2024|     Tenerife|   2.7652013E7|                 126.41|\n",
      "+----+-------------+--------------+-----------------------+\n",
      "\n"
     ]
    },
    {
     "name": "stderr",
     "output_type": "stream",
     "text": [
      "                                                                                \r"
     ]
    }
   ],
   "source": [
    "recuperacion_post_covid = df_sp.filter(col(\"año\").isin([2019, 2022, 2023, 2024])) \\\n",
    "    .groupBy(\"año\", \"TERRITORIO#es\") \\\n",
    "    .agg(sum(\"OBS_VALUE\").alias(\"total_turistas\")) \\\n",
    "    .withColumn(\"turistas_2019\", \n",
    "                when(col(\"año\") == 2019, col(\"total_turistas\")).otherwise(None)) \\\n",
    "    .withColumn(\"turistas_2019_filled\", \n",
    "                last(\"turistas_2019\", ignorenulls=True).over(Window.partitionBy(\"TERRITORIO#es\").orderBy(\"año\"))) \\\n",
    "    .withColumn(\"porcentaje_recuperacion\", \n",
    "                round((col(\"total_turistas\") / col(\"turistas_2019_filled\")) * 100, 2)) \\\n",
    "    .filter(col(\"año\") != 2019) \\\n",
    "    .select(\"año\", \"TERRITORIO#es\", \"total_turistas\", \"porcentaje_recuperacion\") \\\n",
    "    .orderBy(\"TERRITORIO#es\", \"año\")\n",
    "\n",
    "print(\"\\n  *RECUPERACIÓN POST-COVID *\")\n",
    "recuperacion_post_covid.show()"
   ]
  },
  {
   "cell_type": "markdown",
   "id": "98697c5c",
   "metadata": {},
   "source": [
    "### Correlaciones"
   ]
  },
  {
   "cell_type": "code",
   "execution_count": 41,
   "id": "2c2334b3",
   "metadata": {},
   "outputs": [
    {
     "name": "stderr",
     "output_type": "stream",
     "text": [
      "                                                                                \r"
     ]
    },
    {
     "name": "stdout",
     "output_type": "stream",
     "text": [
      "\n",
      "=== VISTA PREVIA DE DATOS PIVOTEADOS ===\n"
     ]
    },
    {
     "name": "stderr",
     "output_type": "stream",
     "text": [
      "[Stage 86:>                                                         (0 + 4) / 4]\r"
     ]
    },
    {
     "name": "stdout",
     "output_type": "stream",
     "text": [
      "+--------------+--------------------+-------------+--------------+-----------------+-----------------+\n",
      "|TIME_PERIOD#es|           EVENTO#es|      isla#es|pernoctaciones|viajeros_alojados|viajeros_entrados|\n",
      "+--------------+--------------------+-------------+--------------+-----------------+-----------------+\n",
      "|          2010|Gay Pride Maspalomas| Gran Canaria|      505762.0|          72444.0|          72534.0|\n",
      "|          2014|Ironman Lanzarote...| Gran Canaria|      667588.0|          85068.0|          85084.0|\n",
      "|          2011| Puente de diciembre|Fuerteventura|      517063.0|          54187.0|          54158.0|\n",
      "|          2009| Puente de diciembre|    Lanzarote|      208074.0|          25796.0|          25742.0|\n",
      "|          2015|Ironman Lanzarote...|    La Gomera|       18894.0|           2989.0|           2989.0|\n",
      "+--------------+--------------------+-------------+--------------+-----------------+-----------------+\n",
      "only showing top 5 rows\n"
     ]
    },
    {
     "name": "stderr",
     "output_type": "stream",
     "text": [
      "                                                                                \r"
     ]
    }
   ],
   "source": [
    "df_eventos_pivot = df_sp_hotel.groupBy(\"TIME_PERIOD#es\", \"EVENTO#es\", \"isla#es\") \\\n",
    "    .pivot(\"MEDIDAS#es\") \\\n",
    "    .sum(\"OBS_VALUE\") \\\n",
    "    .withColumnRenamed(\"Pernoctaciones\", \"pernoctaciones\") \\\n",
    "    .withColumnRenamed(\"Viajeros entrados\", \"viajeros_entrados\") \\\n",
    "    .withColumnRenamed(\"Viajeros alojados\", \"viajeros_alojados\")\n",
    "\n",
    "print(\"\\n=== VISTA PREVIA DE DATOS PIVOTEADOS ===\")\n",
    "df_eventos_pivot.show(5)"
   ]
  },
  {
   "cell_type": "code",
   "execution_count": 42,
   "id": "cb8f52b1",
   "metadata": {},
   "outputs": [
    {
     "name": "stdout",
     "output_type": "stream",
     "text": [
      "\n",
      "* CORRELACIONES EN EVENTOS ESPECIALES*\n"
     ]
    },
    {
     "name": "stderr",
     "output_type": "stream",
     "text": [
      "[Stage 92:===========================================>              (3 + 1) / 4]\r"
     ]
    },
    {
     "name": "stdout",
     "output_type": "stream",
     "text": [
      "+--------------------+--------------------+------------------+\n",
      "|corr_pernoc_viajeros|corr_pernoc_alojados|     corr_viajeros|\n",
      "+--------------------+--------------------+------------------+\n",
      "|  0.9898421305118814|  0.8814272249797452|0.9121542316503893|\n",
      "+--------------------+--------------------+------------------+\n",
      "\n"
     ]
    },
    {
     "name": "stderr",
     "output_type": "stream",
     "text": [
      "                                                                                \r"
     ]
    }
   ],
   "source": [
    "correlacion_eventos = df_eventos_pivot.select(\n",
    "    corr(\"pernoctaciones\", \"viajeros_entrados\").alias(\"corr_pernoc_viajeros\"),\n",
    "    corr(\"pernoctaciones\", \"viajeros_alojados\").alias(\"corr_pernoc_alojados\"),\n",
    "    corr(\"viajeros_entrados\", \"viajeros_alojados\").alias(\"corr_viajeros\")\n",
    ")\n",
    "\n",
    "print(\"\\n* CORRELACIONES EN EVENTOS ESPECIALES*\")\n",
    "correlacion_eventos.show()"
   ]
  },
  {
   "cell_type": "code",
   "execution_count": 43,
   "id": "6cb3bda3",
   "metadata": {},
   "outputs": [
    {
     "name": "stdout",
     "output_type": "stream",
     "text": [
      "\n",
      " *CORRELACIONES POR ISLA *\n"
     ]
    },
    {
     "name": "stderr",
     "output_type": "stream",
     "text": [
      "[Stage 102:==============>                                          (1 + 3) / 4]\r"
     ]
    },
    {
     "name": "stdout",
     "output_type": "stream",
     "text": [
      "+-------------+--------------------+--------------------+------------------+\n",
      "|      isla#es|corr_pernoc_viajeros|corr_pernoc_alojados|     corr_viajeros|\n",
      "+-------------+--------------------+--------------------+------------------+\n",
      "|Fuerteventura|  0.9772948769101221|   0.709389393818151|0.7639268099680243|\n",
      "| Gran Canaria|   0.974032919064806|  0.6719500619328632|0.7502365572459507|\n",
      "|    La Gomera|  0.9733115105030103|  0.7587063681981132| 0.824452192009234|\n",
      "|     La Palma|  0.9647066209500934|  0.8251134760041097|0.8623016357945591|\n",
      "|    Lanzarote|  0.9830156266999583|  0.7548374571264381|0.8058647578369426|\n",
      "|     Tenerife|  0.9718998745782218|   0.674944797690338| 0.763914410948703|\n",
      "+-------------+--------------------+--------------------+------------------+\n",
      "\n"
     ]
    },
    {
     "name": "stderr",
     "output_type": "stream",
     "text": [
      "                                                                                \r"
     ]
    }
   ],
   "source": [
    "correlaciones_por_isla = df_eventos_pivot.groupBy(\"isla#es\") \\\n",
    "    .agg(\n",
    "        corr(\"pernoctaciones\", \"viajeros_entrados\").alias(\"corr_pernoc_viajeros\"),\n",
    "        corr(\"pernoctaciones\", \"viajeros_alojados\").alias(\"corr_pernoc_alojados\"),\n",
    "        corr(\"viajeros_entrados\", \"viajeros_alojados\").alias(\"corr_viajeros\")\n",
    "    ) \\\n",
    "    .orderBy(\"isla#es\")\n",
    "\n",
    "print(\"\\n *CORRELACIONES POR ISLA *\")\n",
    "correlaciones_por_isla.show()"
   ]
  },
  {
   "cell_type": "code",
   "execution_count": 44,
   "id": "9cb72a94",
   "metadata": {},
   "outputs": [
    {
     "name": "stdout",
     "output_type": "stream",
     "text": [
      "\n",
      "* CORRELACIONES POR EVENTO *\n"
     ]
    },
    {
     "name": "stderr",
     "output_type": "stream",
     "text": [
      "[Stage 112:============================>                            (2 + 2) / 4]\r"
     ]
    },
    {
     "name": "stdout",
     "output_type": "stream",
     "text": [
      "+-----------------------------------+--------------------+--------------------+------------------+-----------------+\n",
      "|EVENTO#es                          |corr_pernoc_viajeros|corr_pernoc_alojados|corr_viajeros     |num_observaciones|\n",
      "+-----------------------------------+--------------------+--------------------+------------------+-----------------+\n",
      "|Carnavales                         |0.992008056690075   |0.8767181488531912  |0.8767127654266313|96               |\n",
      "|Festival Mueca                     |0.9955011731422843  |0.9955494676633546  |0.9999929914942943|30               |\n",
      "|Ironman Lanzarote (quincena previa)|0.9972773266332233  |0.997281641151898   |0.999997871347628 |66               |\n",
      "|Ironman Lanzarote (semana previa)  |0.996136244202251   |0.9961612126679534  |0.9999969737768151|66               |\n",
      "|Puente de diciembre                |0.9873141720423178  |0.9872367732450634  |0.9999959955753402|84               |\n",
      "|Puente de todos los santos         |0.9936476104817318  |0.9930286055165018  |0.9932903361126376|78               |\n",
      "|Semana Santa corta                 |0.9929467852568727  |0.8542598192890466  |0.878839288250097 |90               |\n",
      "|Semana Santa larga                 |0.995885229052183   |0.9396353150657801  |0.9537976381768253|90               |\n",
      "+-----------------------------------+--------------------+--------------------+------------------+-----------------+\n",
      "\n"
     ]
    },
    {
     "name": "stderr",
     "output_type": "stream",
     "text": [
      "                                                                                \r"
     ]
    }
   ],
   "source": [
    "correlaciones_por_evento = df_eventos_pivot.groupBy(\"EVENTO#es\") \\\n",
    "    .agg(\n",
    "        corr(\"pernoctaciones\", \"viajeros_entrados\").alias(\"corr_pernoc_viajeros\"),\n",
    "        corr(\"pernoctaciones\", \"viajeros_alojados\").alias(\"corr_pernoc_alojados\"),\n",
    "        corr(\"viajeros_entrados\", \"viajeros_alojados\").alias(\"corr_viajeros\"),\n",
    "        count(\"*\").alias(\"num_observaciones\")\n",
    "    ) \\\n",
    "    .filter(col(\"num_observaciones\") >= 30) \\\n",
    "    .orderBy(\"EVENTO#es\")\n",
    "\n",
    "print(\"\\n* CORRELACIONES POR EVENTO *\")\n",
    "correlaciones_por_evento.show(truncate=False)"
   ]
  },
  {
   "cell_type": "code",
   "execution_count": 45,
   "id": "2dc2fc80",
   "metadata": {},
   "outputs": [
    {
     "name": "stdout",
     "output_type": "stream",
     "text": [
      "\n",
      "  *EVOLUCIÓN DE CORRELACIONES POR AÑO*\n",
      "+--------------+--------------------+--------------------+------------------+\n",
      "|TIME_PERIOD#es|corr_pernoc_viajeros|corr_pernoc_alojados|corr_viajeros     |\n",
      "+--------------+--------------------+--------------------+------------------+\n",
      "|2009          |0.9883458211141669  |0.9265267458102485  |0.9559789422700361|\n",
      "|2010          |0.9819321456591075  |0.8619402841338583  |0.9233573145368172|\n",
      "|2011          |0.9912552865099736  |0.9147279062781972  |0.9380840554454928|\n",
      "|2012          |0.9922670551449886  |0.8870634930505685  |0.9257025949182792|\n",
      "|2013          |0.9920500883915124  |0.888898464048612   |0.9145403624715646|\n",
      "|2014          |0.9953433321274034  |0.907287430392979   |0.9226342677702947|\n",
      "|2015          |0.9901495983579002  |0.9059807019881492  |0.934703386431844 |\n",
      "|2016          |0.9944387939633202  |0.9044728914498629  |0.9242570369863398|\n",
      "|2017          |0.9957619424973873  |0.9047209998838334  |0.9174600677371612|\n",
      "|2018          |0.9942099393785415  |0.8667769663946581  |0.896377965734039 |\n",
      "|2019          |0.9967269677584282  |0.8614876497573614  |0.8773203021661999|\n",
      "|2020          |0.997986978086936   |0.9979946800851773  |0.9999999001983646|\n",
      "|2021          |0.9798949391626867  |0.8316812451326089  |0.9001381939731804|\n",
      "|2022          |0.9970049365003566  |0.8880339157005139  |0.9042235031793953|\n",
      "|2023          |0.996085932545845   |0.921465091185822   |0.9327444838040861|\n",
      "|2024          |0.9987771886702099  |0.9987774739207989  |0.999999992746477 |\n",
      "|2025          |0.9978539204977254  |0.8785505844872075  |0.8800504476607787|\n",
      "+--------------+--------------------+--------------------+------------------+\n",
      "\n"
     ]
    }
   ],
   "source": [
    "\n",
    "correlaciones_anuales = df_eventos_pivot.groupBy(\"TIME_PERIOD#es\") \\\n",
    "    .agg(\n",
    "        corr(\"pernoctaciones\", \"viajeros_entrados\").alias(\"corr_pernoc_viajeros\"),\n",
    "        corr(\"pernoctaciones\", \"viajeros_alojados\").alias(\"corr_pernoc_alojados\"),\n",
    "        corr(\"viajeros_entrados\", \"viajeros_alojados\").alias(\"corr_viajeros\")\n",
    "    ) \\\n",
    "    .orderBy(\"TIME_PERIOD#es\")\n",
    "\n",
    "print(\"\\n  *EVOLUCIÓN DE CORRELACIONES POR AÑO*\")\n",
    "correlaciones_anuales.show(truncate=False)"
   ]
  },
  {
   "cell_type": "markdown",
   "id": "9cf9d465",
   "metadata": {},
   "source": [
    "## INSIGHTS Especificos"
   ]
  },
  {
   "cell_type": "code",
   "execution_count": 46,
   "id": "cfc29a9e",
   "metadata": {},
   "outputs": [
    {
     "name": "stdout",
     "output_type": "stream",
     "text": [
      "\n",
      "=== MEJOR MES PARA CADA ISLA ===\n",
      "+-------------+---+------------------+\n",
      "|TERRITORIO#es|mes|promedio_turistas |\n",
      "+-------------+---+------------------+\n",
      "|Fuerteventura|10 |22444.049783549784|\n",
      "|Gran Canaria |12 |43789.40041493776 |\n",
      "|La Palma     |12 |3791.7158836689036|\n",
      "|Lanzarote    |03 |27201.68604651163 |\n",
      "|Tenerife     |03 |56606.294003868476|\n",
      "+-------------+---+------------------+\n",
      "\n"
     ]
    }
   ],
   "source": [
    "mejor_mes_isla = df_sp.groupBy(\"TERRITORIO#es\", \"mes\") \\\n",
    "    .agg(avg(\"OBS_VALUE\").alias(\"promedio_turistas\")) \\\n",
    "    .withColumn(\"rank\", \n",
    "                row_number().over(Window.partitionBy(\"TERRITORIO#es\").orderBy(desc(\"promedio_turistas\")))) \\\n",
    "    .filter(col(\"rank\") == 1) \\\n",
    "    .select(\"TERRITORIO#es\", \"mes\", \"promedio_turistas\") \\\n",
    "    .orderBy(\"TERRITORIO#es\")\n",
    "\n",
    "print(\"\\n=== MEJOR MES PARA CADA ISLA ===\")\n",
    "mejor_mes_isla.show(truncate=False)"
   ]
  },
  {
   "cell_type": "code",
   "execution_count": 47,
   "id": "e5ddd992",
   "metadata": {},
   "outputs": [
    {
     "name": "stdout",
     "output_type": "stream",
     "text": [
      "\n",
      "=== PAÍSES CON MAYOR CRECIMIENTO (2021-2024) ===\n",
      "+------------------------------------------------------+-----------+-----------+----------------------+\n",
      "|LUGAR_RESIDENCIA#es                                   |2021       |2024       |crecimiento_porcentual|\n",
      "+------------------------------------------------------+-----------+-----------+----------------------+\n",
      "|Reino Unido                                           |2579420.0  |1.2818956E7|396.97                |\n",
      "|Irlanda                                               |359198.0   |1619332.0  |350.82                |\n",
      "|Mundo (excluida España)                               |1.0882266E7|3.2810276E7|201.5                 |\n",
      "|Países Nórdicos                                       |897916.0   |2672199.0  |197.6                 |\n",
      "|Italia                                                |591462.0   |1577626.0  |166.73                |\n",
      "|Países Bajos                                          |631692.0   |1486817.0  |135.37                |\n",
      "|Otros países o territorios del mundo (excluida España)|1544093.0  |3585138.0  |132.18                |\n",
      "|Alemania                                              |2829156.0  |6209230.0  |119.47                |\n",
      "|Francia                                               |947861.0   |1872725.0  |97.57                 |\n",
      "|Bélgica                                               |501542.0   |968317.0   |93.07                 |\n",
      "+------------------------------------------------------+-----------+-----------+----------------------+\n",
      "\n"
     ]
    }
   ],
   "source": [
    "crecimiento_paises = df_sp.filter(col(\"año\").isin([2021, 2024])) \\\n",
    "    .groupBy(\"LUGAR_RESIDENCIA#es\", \"año\") \\\n",
    "    .agg(sum(\"OBS_VALUE\").alias(\"total_turistas\")) \\\n",
    "    .groupBy(\"LUGAR_RESIDENCIA#es\") \\\n",
    "    .pivot(\"año\") \\\n",
    "    .sum(\"total_turistas\") \\\n",
    "    .withColumn(\"crecimiento_porcentual\", \n",
    "                round(((col(\"2024\") - col(\"2021\")) / col(\"2021\")) * 100, 2)) \\\n",
    "    .filter(col(\"2021\") > 10000) \\\n",
    "    .orderBy(desc(\"crecimiento_porcentual\")) \\\n",
    "    .limit(10)\n",
    "\n",
    "print(\"\\n=== PAÍSES CON MAYOR CRECIMIENTO (2021-2024) ===\")\n",
    "crecimiento_paises.show(truncate=False)"
   ]
  }
 ],
 "metadata": {
  "kernelspec": {
   "display_name": "datos",
   "language": "python",
   "name": "python3"
  },
  "language_info": {
   "codemirror_mode": {
    "name": "ipython",
    "version": 3
   },
   "file_extension": ".py",
   "mimetype": "text/x-python",
   "name": "python",
   "nbconvert_exporter": "python",
   "pygments_lexer": "ipython3",
   "version": "3.12.3"
  }
 },
 "nbformat": 4,
 "nbformat_minor": 5
}
